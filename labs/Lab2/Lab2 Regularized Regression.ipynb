{
 "cells": [
  {
   "cell_type": "code",
   "execution_count": null,
   "id": "afd7e68a-91ab-4566-a3a7-3e599191e6a0",
   "metadata": {},
   "outputs": [],
   "source": [
    "import pandas as pd\n",
    "import numpy as np\n",
    "from sklearn.model_selection import train_test_split\n",
    "from sklearn.linear_model import Ridge, Lasso\n",
    "from sklearn.model_selection import cross_val_score\n",
    "import matplotlib.pyplot as plt\n",
    "\n",
    "# Load the data\n",
    "url = \"https://raw.githubusercontent.com/MaRo406/eds-232-machine-learning/main/data/abalone-data.csv\"\n",
    "abdat = pd.read_csv(url)\n",
    "\n",
    "# Explore the data\n",
    "print(abdat.info())\n",
    "print(abdat.head())\n"
   ]
  },
  {
   "cell_type": "markdown",
   "id": "80513693-2b69-4f40-9281-9a6d0845f541",
   "metadata": {},
   "source": [
    "Data Splitting\n",
    "Question 1: Split the data into training and test sets using a 70/30 split."
   ]
  },
  {
   "cell_type": "code",
   "execution_count": null,
   "id": "dbd180af-9230-4afa-ab37-72338863b977",
   "metadata": {},
   "outputs": [],
   "source": [
    "# Define predictors and outcome\n",
    "X = abdat.drop(columns=\"Rings\")\n",
    "X = pd.get_dummies(X, drop_first=True)  # Encode categorical variables\n",
    "y = abdat[\"Rings\"]\n",
    "\n",
    "# Split the data\n",
    "X_train, X_test, y_train, y_test = train_test_split(X, y, test_size=0.3, random_state=42)\n"
   ]
  },
  {
   "cell_type": "markdown",
   "id": "5a545998-596f-4021-83a9-71010807a5dc",
   "metadata": {},
   "source": [
    "Ridge Regression\n",
    "Question 2 & 3: Fit a ridge regression model and visualize how coefficients change with lambda."
   ]
  },
  {
   "cell_type": "code",
   "execution_count": null,
   "id": "72cb9b25-27fd-4c62-8fe6-6f5cdcd1f6c4",
   "metadata": {},
   "outputs": [],
   "source": [
    "from sklearn.preprocessing import StandardScaler\n",
    "from sklearn.linear_model import RidgeCV\n",
    "\n",
    "# Standardize the predictors\n",
    "scaler = StandardScaler()\n",
    "X_train_scaled = scaler.fit_transform(X_train)\n",
    "X_test_scaled = scaler.transform(X_test)\n",
    "\n",
    "# Ridge regression with varying alphas\n",
    "alphas = np.logspace(-4, 4, 100)\n",
    "ridge = RidgeCV(alphas=alphas, store_cv_values=True, cv=10)\n",
    "ridge.fit(X_train_scaled, y_train)\n",
    "\n",
    "# Coefficients plot\n",
    "plt.figure(figsize=(10, 6))\n",
    "plt.plot(ridge.alphas_, ridge.cv_values_.mean(axis=0), label=\"CV Error\")\n",
    "plt.xscale(\"log\")\n",
    "plt.xlabel(\"Lambda (Alpha)\")\n",
    "plt.ylabel(\"Cross-Validated MSE\")\n",
    "plt.title(\"Ridge Regression Coefficients vs. Lambda\")\n",
    "plt.legend()\n",
    "plt.show()\n"
   ]
  },
  {
   "cell_type": "markdown",
   "id": "ae2d8b18-e8ed-4b95-8cd3-afc3dc83f456",
   "metadata": {},
   "source": [
    "Lasso Regression and Cross Validation\n",
    "Question 4 & 5: Fit lasso regression using LassoCV and interpret the results."
   ]
  },
  {
   "cell_type": "code",
   "execution_count": null,
   "id": "447a5a2e-1995-4f8c-9d5d-10f72c1d2f45",
   "metadata": {},
   "outputs": [],
   "source": [
    "from sklearn.linear_model import LassoCV\n",
    "\n",
    "# Lasso regression with cross-validation\n",
    "lasso = LassoCV(alphas=alphas, cv=10, random_state=42)\n",
    "lasso.fit(X_train_scaled, y_train)\n",
    "\n",
    "# Plot Lasso results\n",
    "plt.figure(figsize=(10, 6))\n",
    "plt.plot(np.log10(lasso.alphas_), lasso.mse_path_.mean(axis=1), label=\"CV Error\")\n",
    "plt.xlabel(\"Log(Lambda)\")\n",
    "plt.ylabel(\"Cross-Validated MSE\")\n",
    "plt.title(\"Lasso Regression CV Results\")\n",
    "plt.legend()\n",
    "plt.show()\n"
   ]
  },
  {
   "cell_type": "markdown",
   "id": "cca2faec-865f-471c-a347-f577bc550253",
   "metadata": {},
   "source": [
    "Tuning and Model Comparison\n",
    "Question 6 & 7: Find the minimum MSE and associated lambda for both Ridge and Lass"
   ]
  },
  {
   "cell_type": "code",
   "execution_count": null,
   "id": "64f7bd47-630e-48b2-9f06-d1e4234f19e5",
   "metadata": {},
   "outputs": [],
   "source": [
    "# Ridge results\n",
    "ridge_min_mse = ridge.cv_values_.min()\n",
    "ridge_best_alpha = ridge.alpha_\n",
    "\n",
    "# Lasso results\n",
    "lasso_min_mse = lasso.mse_path_.min()\n",
    "lasso_best_alpha = lasso.alpha_\n",
    "\n",
    "print(f\"Ridge - Minimum MSE: {ridge_min_mse}, Best Alpha: {ridge_best_alpha}\")\n",
    "print(f\"Lasso - Minimum MSE: {lasso_min_mse}, Best Alpha: {lasso_best_alpha}\")\n"
   ]
  },
  {
   "cell_type": "markdown",
   "id": "9a4691e6-47ae-44ca-8446-9d950c1ea441",
   "metadata": {},
   "source": [
    "Question 8: Use the \"one-standard-error\" rule and find the number of predictors in the Lasso model."
   ]
  },
  {
   "cell_type": "code",
   "execution_count": null,
   "id": "0a0c8a3f-40f1-41bd-b535-6a523f93672a",
   "metadata": {},
   "outputs": [],
   "source": [
    "# One-standard-error rule for Lasso\n",
    "lasso_best_alpha_1se = lasso.alphas_[np.where(\n",
    "    lasso.mse_path_.mean(axis=1) <= (lasso.mse_path_.mean(axis=1).min() + lasso.mse_path_.std(axis=1).mean())\n",
    ")[0][0]]\n",
    "\n",
    "lasso_1se_model = Lasso(alpha=lasso_best_alpha_1se)\n",
    "lasso_1se_model.fit(X_train_scaled, y_train)\n",
    "\n",
    "print(f\"Lasso 1-SE Rule Alpha: {lasso_best_alpha_1se}\")\n",
    "print(f\"Number of Predictors in Lasso (1-SE): {np.sum(lasso_1se_model.coef_ != 0)}\")\n"
   ]
  },
  {
   "cell_type": "code",
   "execution_count": null,
   "id": "a2110049-1017-4d6b-9406-b18f7798b2c9",
   "metadata": {},
   "outputs": [],
   "source": [
    "Question 9: Compare the performance of your Ridge and Lasso models."
   ]
  }
 ],
 "metadata": {
  "kernelspec": {
   "display_name": "Python 3 (ipykernel)",
   "language": "python",
   "name": "python3"
  },
  "language_info": {
   "codemirror_mode": {
    "name": "ipython",
    "version": 3
   },
   "file_extension": ".py",
   "mimetype": "text/x-python",
   "name": "python",
   "nbconvert_exporter": "python",
   "pygments_lexer": "ipython3",
   "version": "3.9.7"
  }
 },
 "nbformat": 4,
 "nbformat_minor": 5
}
