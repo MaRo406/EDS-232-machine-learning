{
 "cells": [
  {
   "cell_type": "markdown",
   "id": "08d45d18-d45b-43a3-95e4-2696e99f5f77",
   "metadata": {},
   "source": [
    "# EDS232 Lab 1: Regression\n",
    "\n",
    "## General Lab Template\n",
    "1. Look at the big picture.\n",
    "2. Get the data.\n",
    "3. Explore and visualize the data to gain insights.\n",
    "4. Prepare the data for machine learning algorithms.\n",
    "5. Select a model and train it.\n",
    "6. Fine-tune your model.\n",
    "7. Present your solution.\n",
    "\n",
    "## Overview\n",
    "In this lab, we will introduce the basics of machine learning in **Python** by focusing on **regression**, a core technique used to predict continuous outcomes. We will use the popular **scikit-learn** library, which provides easy-to-use tools for building and evaluating machine learning models.\n",
    "Specifically, we will focus on how regression algorithms can help us model and predict XXXXX data.\n",
    "\n",
    "## Objectives\n",
    "By the end of this lab, you will be able to:\n",
    "- Understand the concept of regression and its implementation in Pythnon\n",
    "- Implement simple and multiple linear regression models\n",
    "- Evaluate model performance using various metrics like **R²**, **MAE**, and **RMSE**\n",
    "- Visualize regression prediction results \n",
    "\n",
    "## Key Concepts\n",
    "- **Machine Learning**: A subset of artificial intelligence where algorithms learn patterns from data to make predictions or decisions without being explicitly programmed.\n",
    "- **Regression**: A machine learning method for predicting continuous values.\n",
    "  - **Simple Linear Regression**: A regression model with one independent variable.\n",
    "  - **Multiple Linear Regression**: A regression model with two or more independent variables.\n",
    "  \n",
    "- **Scikit-learn**: A Python library that provides simple and efficient tools for data mining and machine learning. We will use it for:\n",
    "  - **Data Preprocessing**: Preparing data for the model.\n",
    "  - **Model Training**: Fitting the regression model to our data.\n",
    "  - **Model Evaluation**: Assessing model performance using model evaluation metrics\n",
    "\n",
    "- **Model Evaluation Metrics**: Tools to assess how well our model fits the data, such as:\n",
    "  - **R² (R-squared)**: Measures the proportion of variance in the dependent variable that is predictable from the independent variable(s).\n",
    "  - **MAE (Mean Absolute Error)**: The average of the absolute differences between predicted and actual values.\n",
    "  - **RMSE (Root Mean Square Error)**: The square root of the average squared differences between predicted and actual values.\n",
    "\n",
    "\n"
   ]
  },
  {
   "cell_type": "code",
   "execution_count": null,
   "id": "12ad1be6-1889-4827-8fd5-fc83c6501c4c",
   "metadata": {},
   "outputs": [],
   "source": [
    "# Load data "
   ]
  },
  {
   "cell_type": "code",
   "execution_count": null,
   "id": "4430f5b9-0b96-42ea-ba52-ee8ff9d37368",
   "metadata": {},
   "outputs": [],
   "source": [
    "# Explore and Visualize data \n",
    "# ex: scatterplot, correlation matrix"
   ]
  },
  {
   "cell_type": "code",
   "execution_count": null,
   "id": "54d728ab-ead2-41fc-8aea-45a7859a629b",
   "metadata": {},
   "outputs": [],
   "source": [
    "# Prepare the Data for Machine Learning \n",
    "# Preprocessing: handling missing values, feature scaling, splitting data into training/test \n",
    "# train_test_split()"
   ]
  },
  {
   "cell_type": "code",
   "execution_count": null,
   "id": "185639e3-9147-4aec-ad24-51975747be11",
   "metadata": {},
   "outputs": [],
   "source": [
    "# Select and Train Model\n",
    "# Import and create regression model using LinearRegression() from scikit-learn\n",
    "# Train the model on training data with .fit()\n",
    "\n",
    "# Initialize and train the model\n",
    "model = LinearRegression()\n",
    "model.fit(X_train, y_train)"
   ]
  },
  {
   "cell_type": "code",
   "execution_count": null,
   "id": "b7493853-80bf-428f-b41f-01f731592c25",
   "metadata": {},
   "outputs": [],
   "source": [
    "#Evaluate the Model \n",
    "#Predict target variable on the test set and calculate evaluation metrics using scikit-learn's mean_squared_error adn r2_score\n",
    "#Visualize predictions vs. actual values\n",
    "\n",
    "from sklearn.metrics import mean_squared_error, r2_score\n",
    "\n",
    "# Make predictions\n",
    "y_pred = model.predict(X_test)\n",
    "\n",
    "# Evaluate the model\n",
    "mse = mean_squared_error(y_test, y_pred)\n",
    "r2 = r2_score(y_test, y_pred)\n",
    "\n",
    "print(f\"Mean Squared Error: {mse}\")\n",
    "print(f\"R² Score: {r2}\")\n",
    "\n",
    "# Plot predictions vs actual\n",
    "plt.scatter(y_test, y_pred)\n",
    "plt.xlabel('Actual')\n",
    "plt.ylabel('Predicted')\n",
    "plt.title('Actual vs Predicted')\n",
    "plt.show()\n"
   ]
  },
  {
   "cell_type": "code",
   "execution_count": null,
   "id": "ff598e3e-e564-4518-8363-238e2091b7b3",
   "metadata": {},
   "outputs": [],
   "source": [
    "#Fine-tune the Model \n",
    "#Use cross_val_score() to fine-tune the model\n",
    "\n",
    "from sklearn.model_selection import cross_val_score\n",
    "\n",
    "# Perform cross-validation\n",
    "scores = cross_val_score(model, X_train, y_train, cv=5, scoring='neg_mean_squared_error')\n",
    "print(f\"Cross-validation scores: {-scores}\")\n"
   ]
  },
  {
   "cell_type": "markdown",
   "id": "247399fb-9c90-48f5-a2ff-17c51c640631",
   "metadata": {},
   "source": [
    "## Present the Solution\n",
    "The linear regression model provides reasonably accurate predictions of environmental data with an R² score of `x.xx` and a Mean Squared Error of `y.yy`. Future analysis could include..."
   ]
  },
  {
   "cell_type": "code",
   "execution_count": null,
   "id": "50961fc0-8274-4987-a17d-f202f832879d",
   "metadata": {},
   "outputs": [],
   "source": [
    "# Transform features for polynomial regression \n",
    "\n",
    "from sklearn.preprocessing import PolynomialFeatures\n",
    "\n",
    "# Transform features to include polynomial terms (degree 2 for quadratic terms)\n",
    "poly = PolynomialFeatures(degree=2)\n",
    "X_poly_train = poly.fit_transform(X_train)\n",
    "X_poly_test = poly.transform(X_test)\n",
    "\n",
    "# View the transformed feature set (for insight)\n",
    "print(X_poly_train)"
   ]
  },
  {
   "cell_type": "code",
   "execution_count": null,
   "id": "c76b90c2-99c0-4b6f-8257-34b7665b27b1",
   "metadata": {},
   "outputs": [],
   "source": [
    "# Train the model on polynomial features \n",
    "poly_model = LinearRegression()\n",
    "poly_model.fit(X_poly_train, y_train)"
   ]
  },
  {
   "cell_type": "code",
   "execution_count": null,
   "id": "05fdd437-19ff-4d8a-907b-0c227fb78f57",
   "metadata": {},
   "outputs": [],
   "source": [
    "# Evaluate the polynomial regression model\n",
    "# Make predictions using the polynomial model\n",
    "y_poly_pred = poly_model.predict(X_poly_test)\n",
    "\n",
    "# Evaluate the polynomial model\n",
    "poly_mse = mean_squared_error(y_test, y_poly_pred)\n",
    "poly_r2 = r2_score(y_test, y_poly_pred)\n",
    "\n",
    "print(f\"Polynomial Regression Mean Squared Error: {poly_mse}\")\n",
    "print(f\"Polynomial Regression R² Score: {poly_r2}\")\n",
    "\n",
    "# Plot predictions vs actual\n",
    "plt.scatter(y_test, y_poly_pred)\n",
    "plt.xlabel('Actual')\n",
    "plt.ylabel('Predicted')\n",
    "plt.title('Polynomial Regression: Actual vs Predicted')\n",
    "plt.show()"
   ]
  },
  {
   "cell_type": "code",
   "execution_count": null,
   "id": "564846f0-60ac-4d5a-a66d-90a2f32f336d",
   "metadata": {},
   "outputs": [],
   "source": [
    "#Compare polynomial and linear regression results"
   ]
  }
 ],
 "metadata": {
  "kernelspec": {
   "display_name": "Python 3 (ipykernel)",
   "language": "python",
   "name": "python3"
  },
  "language_info": {
   "codemirror_mode": {
    "name": "ipython",
    "version": 3
   },
   "file_extension": ".py",
   "mimetype": "text/x-python",
   "name": "python",
   "nbconvert_exporter": "python",
   "pygments_lexer": "ipython3",
   "version": "3.12.6"
  }
 },
 "nbformat": 4,
 "nbformat_minor": 5
}
