{
 "cells": [
  {
   "cell_type": "markdown",
   "id": "5df6dbfa-5b8f-42f3-b767-80fbc5cfd96e",
   "metadata": {},
   "source": [
    "## Step 1: Setting up Spotify API\n",
    "1. Create a Spotify account if you don't already have one: Spotify Signup.\n",
    "2. Go to the Spotify Developer Dashboard and log in.\n",
    "3. Click \"Create an App\" to generate a Client ID and Client Secret.\n",
    "4. In your app settings, add http://localhost:8888/callback as a redirect URI.\n",
    "\n",
    "Install required spotipy library:"
   ]
  },
  {
   "cell_type": "code",
   "execution_count": 1,
   "id": "082490ff-f4b6-463d-bf73-ddd83b3c21e7",
   "metadata": {},
   "outputs": [
    {
     "name": "stdout",
     "output_type": "stream",
     "text": [
      "The history saving thread hit an unexpected error (OperationalError('attempt to write a readonly database')).History will not be written to the database.\n",
      "Collecting spotipy\n",
      "  Downloading spotipy-2.24.0-py3-none-any.whl.metadata (4.9 kB)\n",
      "Collecting redis>=3.5.3 (from spotipy)\n",
      "  Downloading redis-5.2.0-py3-none-any.whl.metadata (9.1 kB)\n",
      "Requirement already satisfied: requests>=2.25.0 in /Users/mateorobbins/opt/anaconda3/lib/python3.9/site-packages (from spotipy) (2.32.3)\n",
      "Requirement already satisfied: urllib3>=1.26.0 in /Users/mateorobbins/opt/anaconda3/lib/python3.9/site-packages (from spotipy) (1.26.7)\n",
      "Requirement already satisfied: async-timeout>=4.0.3 in /Users/mateorobbins/opt/anaconda3/lib/python3.9/site-packages (from redis>=3.5.3->spotipy) (4.0.3)\n",
      "Requirement already satisfied: charset-normalizer<4,>=2 in /Users/mateorobbins/opt/anaconda3/lib/python3.9/site-packages (from requests>=2.25.0->spotipy) (2.0.4)\n",
      "Requirement already satisfied: idna<4,>=2.5 in /Users/mateorobbins/opt/anaconda3/lib/python3.9/site-packages (from requests>=2.25.0->spotipy) (3.2)\n",
      "Requirement already satisfied: certifi>=2017.4.17 in /Users/mateorobbins/opt/anaconda3/lib/python3.9/site-packages (from requests>=2.25.0->spotipy) (2021.10.8)\n",
      "Downloading spotipy-2.24.0-py3-none-any.whl (30 kB)\n",
      "Downloading redis-5.2.0-py3-none-any.whl (261 kB)\n",
      "Installing collected packages: redis, spotipy\n",
      "Successfully installed redis-5.2.0 spotipy-2.24.0\n",
      "Note: you may need to restart the kernel to use updated packages.\n"
     ]
    }
   ],
   "source": [
    "pip install spotipy"
   ]
  },
  {
   "cell_type": "markdown",
   "id": "9e876203-c087-48ce-ad40-023ba74a352b",
   "metadata": {},
   "source": [
    "## Step 2: Authentication"
   ]
  },
  {
   "cell_type": "code",
   "execution_count": null,
   "id": "ec8e13bf-772d-4de8-a764-6ba574ebd221",
   "metadata": {
    "jupyter": {
     "source_hidden": true
    }
   },
   "outputs": [],
   "source": [
    "import spotipy\n",
    "from spotipy.oauth2 import SpotifyOAuth\n",
    "\n",
    "# Set your client ID and client secret\n",
    "sp = spotipy.Spotify(auth_manager=SpotifyOAuth(\n",
    "    client_id='your_client_id',\n",
    "    client_secret='your_client_secret',\n",
    "    redirect_uri='http://localhost:8888/callback',\n",
    "    scope=\"user-library-read user-read-recently-played\"\n",
    "))"
   ]
  },
  {
   "cell_type": "markdown",
   "id": "096437af-ec7b-4673-96e1-4759d95858c2",
   "metadata": {},
   "source": [
    "## Step 3: Data Collection\n",
    "Option 1: Classify by Users\n",
    "Fetch your liked tracks or recently played tracks:"
   ]
  },
  {
   "cell_type": "code",
   "execution_count": null,
   "id": "4c5240f0-2f32-4b55-8acd-9bd0a76e0715",
   "metadata": {},
   "outputs": [],
   "source": [
    "import pandas as pd\n",
    "\n",
    "def fetch_tracks(sp, fetch_function, limit=50):\n",
    "    results = []\n",
    "    offset = 0\n",
    "    while True:\n",
    "        response = fetch_function(limit=limit, offset=offset)\n",
    "        items = response['items']\n",
    "        if not items:\n",
    "            break\n",
    "        results.extend(items)\n",
    "        offset += limit\n",
    "    return pd.DataFrame(results)\n",
    "\n",
    "# Fetch liked tracks\n",
    "liked_tracks = fetch_tracks(sp, sp.current_user_saved_tracks)\n",
    "\n",
    "# Fetch recently played tracks\n",
    "recent_tracks = fetch_tracks(sp, sp.current_user_recently_played)\n"
   ]
  },
  {
   "cell_type": "markdown",
   "id": "4b42e518-11be-45e3-9d08-0fd614a805cf",
   "metadata": {},
   "source": [
    "### Get audio features for tracks"
   ]
  },
  {
   "cell_type": "code",
   "execution_count": null,
   "id": "6dbf25d3-e865-4290-bf09-37ba4d0b8a5b",
   "metadata": {},
   "outputs": [],
   "source": [
    "def fetch_audio_features(sp, track_ids):\n",
    "    features = sp.audio_features(track_ids)\n",
    "    return pd.DataFrame(features)\n",
    "\n",
    "# Example: Fetch audio features for liked tracks\n",
    "liked_track_ids = liked_tracks['track'].apply(lambda x: x['id'])\n",
    "audio_features = fetch_audio_features(sp, liked_track_ids)\n"
   ]
  },
  {
   "cell_type": "markdown",
   "id": "b3cfa008-c0a0-4d08-b889-133d3bc192d0",
   "metadata": {},
   "source": [
    "### Combine datasets with an outcome variable"
   ]
  },
  {
   "cell_type": "code",
   "execution_count": null,
   "id": "1683b9ae-9fcd-45a4-bf41-a96ac63cfd3c",
   "metadata": {},
   "outputs": [],
   "source": [
    "# Add track names for reference\n",
    "audio_features['track_name'] = liked_tracks['track'].apply(lambda x: x['name'])\n",
    "\n",
    "# Combine with another user's data\n",
    "partner_audio_features = ...  # Replace with partner's dataset\n",
    "audio_features['label'] = 'your_data'\n",
    "partner_audio_features['label'] = 'partner_data'\n",
    "combined_data = pd.concat([audio_features, partner_audio_features])\n"
   ]
  },
  {
   "cell_type": "markdown",
   "id": "4aaac8c4-fbb4-40f9-8a59-e800395c6c65",
   "metadata": {},
   "source": [
    "### Option 2: Classify by Genres\n",
    "1. Download and inspect Kaggle dataset:"
   ]
  },
  {
   "cell_type": "code",
   "execution_count": null,
   "id": "406b568b-785a-42fc-957f-681810dcfc61",
   "metadata": {},
   "outputs": [],
   "source": [
    "spotify_data = pd.read_csv('path_to_spotify_dataset.csv')\n",
    "\n",
    "# Filter down to two genres\n",
    "genre_1_data = spotify_data[spotify_data['genre'] == 'Genre1']\n",
    "genre_2_data = spotify_data[spotify_data['genre'] == 'Genre2']\n",
    "combined_data = pd.concat([genre_1_data, genre_2_data])\n",
    "combined_data['label'] = combined_data['genre']\n"
   ]
  },
  {
   "cell_type": "markdown",
   "id": "70e8340d-f51a-4659-b3eb-c0549575552a",
   "metadata": {},
   "source": [
    "## Step 4: Data Exploration\n",
    "Use descriptive statistics and visualizations to explore the data."
   ]
  },
  {
   "cell_type": "code",
   "execution_count": null,
   "id": "8d476df1-a888-43a2-aabb-987bc9e835aa",
   "metadata": {},
   "outputs": [],
   "source": [
    "import matplotlib.pyplot as plt\n",
    "\n",
    "# Example: Plot danceability\n",
    "combined_data['danceability'].hist(by=combined_data['label'])\n",
    "plt.show()\n",
    "\n",
    "# Example: Compare energy levels\n",
    "combined_data.boxplot(column='energy', by='label')\n",
    "plt.show()\n"
   ]
  },
  {
   "cell_type": "markdown",
   "id": "56f79f22-1036-4ae9-90f8-73ad0f6169b0",
   "metadata": {},
   "source": [
    "Step 5: Modeling\n",
    "1. Preprocessing"
   ]
  },
  {
   "cell_type": "code",
   "execution_count": null,
   "id": "1470168c-bd6c-412a-9549-47ff191e8644",
   "metadata": {},
   "outputs": [],
   "source": [
    "from sklearn.model_selection import train_test_split\n",
    "\n",
    "X = combined_data.drop(columns=['label', 'track_name', 'genre'])\n",
    "y = combined_data['label']\n",
    "\n",
    "X_train, X_test, y_train, y_test = train_test_split(X, y, test_size=0.2, random_state=42)\n"
   ]
  },
  {
   "cell_type": "markdown",
   "id": "afcd4d0e-d3b9-4c42-9634-e7f21b45d90f",
   "metadata": {},
   "source": [
    "2. Define models"
   ]
  },
  {
   "cell_type": "code",
   "execution_count": null,
   "id": "205657f5-00a1-4482-86ed-daeebe5fbdbd",
   "metadata": {},
   "outputs": [],
   "source": [
    "from sklearn.neighbors import KNeighborsClassifier\n",
    "from sklearn.tree import DecisionTreeClassifier\n",
    "from sklearn.ensemble import BaggingClassifier, RandomForestClassifier\n",
    "\n",
    "# KNN\n",
    "knn = KNeighborsClassifier()\n",
    "\n",
    "# Decision Tree\n",
    "dt = DecisionTreeClassifier(random_state=42)\n",
    "\n",
    "# Bagged Tree\n",
    "bagged_tree = BaggingClassifier(base_estimator=DecisionTreeClassifier(), n_estimators=100, random_state=42)\n",
    "\n",
    "# Random Forest\n",
    "random_forest = RandomForestClassifier(random_state=42)\n"
   ]
  },
  {
   "cell_type": "markdown",
   "id": "d74c0a3c-c1b9-438a-8e44-5654e6406f6d",
   "metadata": {},
   "source": [
    "3. Train and evaluate models"
   ]
  },
  {
   "cell_type": "code",
   "execution_count": null,
   "id": "7e1b88f3-8f0c-4c13-9fa7-3e7eaa7417b1",
   "metadata": {},
   "outputs": [],
   "source": [
    "from sklearn.metrics import classification_report, accuracy_score\n",
    "\n",
    "models = [knn, dt, bagged_tree, random_forest]\n",
    "model_names = ['KNN', 'Decision Tree', 'Bagged Tree', 'Random Forest']\n",
    "\n",
    "for model, name in zip(models, model_names):\n",
    "    model.fit(X_train, y_train)\n",
    "    y_pred = model.predict(X_test)\n",
    "    print(f\"--- {name} ---\")\n",
    "    print(classification_report(y_test, y_pred))\n",
    "    print(f\"Accuracy: {accuracy_score(y_test, y_pred)}\")\n"
   ]
  },
  {
   "cell_type": "markdown",
   "id": "10428f77-3f81-430a-bc65-ac1d38c290c5",
   "metadata": {},
   "source": [
    "Step 6. Model Comparison Summarize the model performances in a table and create visualizations for comparison"
   ]
  },
  {
   "cell_type": "code",
   "execution_count": null,
   "id": "22cddca6-1b05-4296-9cc0-cb4d59d65ac9",
   "metadata": {},
   "outputs": [],
   "source": [
    "import matplotlib.pyplot as plt\n",
    "\n",
    "accuracies = [accuracy_score(y_test, model.predict(X_test)) for model in models]\n",
    "plt.bar(model_names, accuracies)\n",
    "plt.ylabel('Accuracy')\n",
    "plt.title('Model Comparison')\n",
    "plt.show()\n"
   ]
  }
 ],
 "metadata": {
  "kernelspec": {
   "display_name": "Python 3 (ipykernel)",
   "language": "python",
   "name": "python3"
  },
  "language_info": {
   "codemirror_mode": {
    "name": "ipython",
    "version": 3
   },
   "file_extension": ".py",
   "mimetype": "text/x-python",
   "name": "python",
   "nbconvert_exporter": "python",
   "pygments_lexer": "ipython3",
   "version": "3.9.7"
  }
 },
 "nbformat": 4,
 "nbformat_minor": 5
}
