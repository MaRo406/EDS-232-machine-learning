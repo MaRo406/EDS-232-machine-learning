{
 "cells": [
  {
   "cell_type": "markdown",
   "id": "16c0708e-dea9-4b21-966c-299bb273e08e",
   "metadata": {},
   "source": [
    "# EDS232 Lab 2: Regularized Regression\n",
    "\n",
    "\n",
    "## Overview\n",
    "In this lab, you will explore Ridge Regression and Lasso Regression, two common techniques for regularized regression. Both methods add penalties to the regression coefficients, which can help prevent overfitting and improve model interpretability. We will also apply the one-standard-error rule for Lasso regression to select a simpler model.\n",
    "\n",
    "## Objectives\n",
    "By the end of this lab, you will:\n",
    "- Implement Ridge and Lasso regression with cross-validation.\n",
    "- Compare the performance of Ridge and Lasso models.\n",
    "- Interpret model coefficients and understand their regularization effects.\n",
    "- Apply the one-standard-error rule to select a parsimonious Lasso model.\n",
    "\n",
    "## Key Concepts\n",
    "\n",
    "**What is Regularized Regression?**\n",
    "- Regularized regression techniques are used to improve model generalization and prevent overfitting by adding a penalty term to the loss function of linear regression.\n",
    "- These methods are particularly useful for datasets with:\n",
    "    - A large number of predictors.\n",
    "    - High multicollinearity among predictors.\n",
    "    - A tendency to overfit due to a small number of observations.\n",
    "\n",
    "**Types of Regularization:**\n",
    "\n",
    "- Ridge Regression:\n",
    "\n",
    "    - Adds an L2 penalty ($\\lambda \\sum_{j=1}^p \\beta_j^2 $) to the regression loss function.\n",
    "    - Shrinks coefficients toward zero but does not set any coefficients exactly to zero.\n",
    "    - Best suited for reducing multicollinearity and improving model stability.\n",
    "\n",
    "- Lasso Regression:\n",
    "\n",
    "    - Adds an L1 penalty ($\\lambda \\sum_{j=1}^p |\\beta_j|$) to the regression loss function.\n",
    "    - Can shrink some coefficients to exactly zero, effectively performing feature selection.\n",
    "    - Useful when you want a simpler, interpretable model.\n",
    "\n",
    "\n",
    "\n",
    "#### About the data\n",
    "\n",
    "- We will be working with data dealing with physical abalone features. This dataset has observations of more than 4,000 abalone, measuring their length, diameter, height, and different rings. The data can be found here : https://archive.ics.uci.edu/dataset/1/abalone. \n",
    "\n",
    "\n",
    "- Notice that the data is not a csv file and is instead a .data file! The .data file does not contain any column names, so we therefore need to specify the column names when we read our data in using `pd.read_csv`. Look at the metadata and assign column names to the data. When you are finished, look at the head of the dataframe to ensure it looks correct. \n"
   ]
  },
  {
   "cell_type": "code",
   "execution_count": 97,
   "id": "afd7e68a-91ab-4566-a3a7-3e599191e6a0",
   "metadata": {},
   "outputs": [
    {
     "name": "stdout",
     "output_type": "stream",
     "text": [
      "<class 'pandas.core.frame.DataFrame'>\n",
      "RangeIndex: 4177 entries, 0 to 4176\n",
      "Data columns (total 9 columns):\n",
      " #   Column          Non-Null Count  Dtype  \n",
      "---  ------          --------------  -----  \n",
      " 0   Sex             4177 non-null   object \n",
      " 1   Length          4177 non-null   float64\n",
      " 2   Diameter        4177 non-null   float64\n",
      " 3   Height          4177 non-null   float64\n",
      " 4   Whole_weight    4177 non-null   float64\n",
      " 5   Shucked_weight  4177 non-null   float64\n",
      " 6   Viscera_weight  4177 non-null   float64\n",
      " 7   Shell_weight    4177 non-null   float64\n",
      " 8   Rings           4177 non-null   int64  \n",
      "dtypes: float64(7), int64(1), object(1)\n",
      "memory usage: 293.8+ KB\n",
      "None\n",
      "  Sex  Length  Diameter  Height  Whole_weight  Shucked_weight  Viscera_weight  \\\n",
      "0   M   0.455     0.365   0.095        0.5140          0.2245          0.1010   \n",
      "1   M   0.350     0.265   0.090        0.2255          0.0995          0.0485   \n",
      "2   F   0.530     0.420   0.135        0.6770          0.2565          0.1415   \n",
      "3   M   0.440     0.365   0.125        0.5160          0.2155          0.1140   \n",
      "4   I   0.330     0.255   0.080        0.2050          0.0895          0.0395   \n",
      "\n",
      "   Shell_weight  Rings  \n",
      "0         0.150     15  \n",
      "1         0.070      7  \n",
      "2         0.210      9  \n",
      "3         0.155     10  \n",
      "4         0.055      7  \n"
     ]
    }
   ],
   "source": [
    "import pandas as pd\n",
    "import numpy as np\n",
    "import seaborn as sns\n",
    "from sklearn.model_selection import train_test_split\n",
    "from sklearn.linear_model import Ridge, Lasso\n",
    "from sklearn.model_selection import cross_val_score\n",
    "import matplotlib.pyplot as plt\n",
    "\n",
    "# URL to the Abalone dataset \n",
    "url = \"https://archive.ics.uci.edu/ml/machine-learning-databases/abalone/abalone.data\"\n",
    "\n",
    "# Define column names based on the UCI repository documentation\n",
    "column_names = [\n",
    "    \"Sex\", \"Length\", \"Diameter\", \"Height\", \n",
    "    \"Whole_weight\", \"Shucked_weight\", \"Viscera_weight\", \n",
    "    \"Shell_weight\", \"Rings\"\n",
    "]\n",
    "\n",
    "# Load the dataset\n",
    "df = pd.read_csv(url, names=column_names)\n",
    "\n",
    "# Display the first few rows\n",
    "df.head()\n",
    "# Explore the data\n",
    "print(df.info())\n",
    "print(df.head())\n"
   ]
  },
  {
   "cell_type": "markdown",
   "id": "b8127d4b-1a07-49d2-9eb9-9ceb58e37868",
   "metadata": {},
   "source": [
    "### Explore the data"
   ]
  },
  {
   "cell_type": "code",
   "execution_count": 118,
   "id": "2791087d-47a0-4e3b-9230-c159044101a4",
   "metadata": {
    "scrolled": true
   },
   "outputs": [
    {
     "data": {
      "image/png": "[encoded data removed]",
      "text/plain": [
       "<Figure size 720x432 with 1 Axes>"
      ]
     },
     "metadata": {
      "needs_background": "light"
     },
     "output_type": "display_data"
    },
    {
     "data": {
      "text/plain": [
       "<Axes: >"
      ]
     },
     "execution_count": 118,
     "metadata": {},
     "output_type": "execute_result"
    },
    {
     "data": {
      "image/png": "[encoded data removed]",
      "text/plain": [
       "<Figure size 720x720 with 2 Axes>"
      ]
     },
     "metadata": {
      "needs_background": "light"
     },
     "output_type": "display_data"
    }
   ],
   "source": [
    "# Explore and Visualize data \n",
    "# ex: scatterplot, correlation matrix\n",
    "\n",
    "# Plot the distribution of Rings (Age Indicator)\n",
    "plt.figure(figsize=(10, 6))\n",
    "sns.histplot(df['Rings'], bins=15, kde=True)\n",
    "plt.title('Distribution of Abalone Age (Rings)')\n",
    "plt.xlabel('Rings (Age Indicator)')\n",
    "plt.ylabel('Frequency')\n",
    "plt.show()\n",
    "\n",
    "plt.figure(figsize = (10, 10))\n",
    "sns.heatmap(df.corr(numeric_only=True), annot = True)"
   ]
  },
  {
   "cell_type": "markdown",
   "id": "80513693-2b69-4f40-9281-9a6d0845f541",
   "metadata": {},
   "source": [
    "Data Splitting\n",
    "Question 1: Split the data into training and test sets using a 70/30 split."
   ]
  },
  {
   "cell_type": "code",
   "execution_count": 99,
   "id": "d903332a-963d-4b41-8aaa-83a32b9996a7",
   "metadata": {},
   "outputs": [
    {
     "name": "stdout",
     "output_type": "stream",
     "text": [
      "Index(['Sex', 'Length', 'Diameter', 'Height', 'Whole_weight', 'Shucked_weight',\n",
      "       'Viscera_weight', 'Shell_weight', 'Rings'],\n",
      "      dtype='object')\n"
     ]
    }
   ],
   "source": [
    "# Define predictors and outcome\n",
    "print(df.columns)"
   ]
  },
  {
   "cell_type": "code",
   "execution_count": 109,
   "id": "57000c1e-e417-4499-9adf-1fb571d34889",
   "metadata": {
    "scrolled": true
   },
   "outputs": [
    {
     "name": "stdout",
     "output_type": "stream",
     "text": [
      "      Length  Diameter  Height  Whole_weight  Shucked_weight  Viscera_weight  \\\n",
      "1593   0.525     0.380   0.135        0.6150          0.2610          0.1590   \n",
      "111    0.465     0.360   0.105        0.4310          0.1720          0.1070   \n",
      "3271   0.520     0.425   0.155        0.7735          0.2970          0.1230   \n",
      "1089   0.450     0.330   0.105        0.3715          0.1865          0.0785   \n",
      "2918   0.600     0.445   0.135        0.9205          0.4450          0.2035   \n",
      "...      ...       ...     ...           ...             ...             ...   \n",
      "3444   0.490     0.400   0.115        0.5690          0.2560          0.1325   \n",
      "466    0.670     0.550   0.190        1.3905          0.5425          0.3035   \n",
      "3092   0.510     0.395   0.125        0.5805          0.2440          0.1335   \n",
      "3772   0.575     0.465   0.120        1.0535          0.5160          0.2185   \n",
      "860    0.595     0.475   0.160        1.1405          0.5470          0.2310   \n",
      "\n",
      "      Shell_weight  Sex_I  Sex_M  \n",
      "1593        0.1750      1      0  \n",
      "111         0.1750      0      1  \n",
      "3271        0.2550      0      1  \n",
      "1089        0.0975      1      0  \n",
      "2918        0.2530      1      0  \n",
      "...            ...    ...    ...  \n",
      "3444        0.1450      0      0  \n",
      "466         0.4000      0      0  \n",
      "3092        0.1880      0      1  \n",
      "3772        0.2350      0      1  \n",
      "860         0.2710      0      0  \n",
      "\n",
      "[2798 rows x 9 columns]\n"
     ]
    }
   ],
   "source": [
    "from sklearn.preprocessing import OneHotEncoder\n",
    "df_encoded = pd.get_dummies(df, drop_first=True)\n",
    "\n",
    "X = df_encoded.drop(columns=[\"Rings\"])\n",
    "y = df_encoded[['Rings']]\n",
    "\n",
    "X_train, X_test, y_train, y_test = train_test_split(\n",
    "    X, y, test_size=0.33, random_state=42)\n",
    "\n",
    "print(X_train)"
   ]
  },
  {
   "cell_type": "markdown",
   "id": "5a545998-596f-4021-83a9-71010807a5dc",
   "metadata": {},
   "source": [
    "Ridge Regression\n",
    "Question 2 & 3: Fit a ridge regression model and visualize how coefficients change with lambda."
   ]
  },
  {
   "cell_type": "code",
   "execution_count": 110,
   "id": "756490cb-8a7f-42f1-ba3c-2f3a5259e752",
   "metadata": {},
   "outputs": [
    {
     "name": "stdout",
     "output_type": "stream",
     "text": [
      "(4177, 9)\n",
      "(2798, 9)\n"
     ]
    }
   ],
   "source": [
    "from sklearn.preprocessing import StandardScaler\n",
    "\n",
    "# Standardize the predictors\n",
    "scaler = StandardScaler()\n",
    "X_train_scaled = scaler.fit_transform(X_train)\n",
    "X_test_scaled = scaler.transform(X_test)\n",
    "\n",
    "print(X.shape)\n",
    "print(X_train_scaled.shape)\n"
   ]
  },
  {
   "cell_type": "code",
   "execution_count": 111,
   "id": "c2b452bd-7e0c-48b2-a128-3a006847327d",
   "metadata": {},
   "outputs": [
    {
     "name": "stdout",
     "output_type": "stream",
     "text": [
      "                            OLS Regression Results                            \n",
      "==============================================================================\n",
      "Dep. Variable:                  Rings   R-squared:                       0.543\n",
      "Model:                            OLS   Adj. R-squared:                  0.541\n",
      "Method:                 Least Squares   F-statistic:                     367.9\n",
      "Date:                Thu, 05 Dec 2024   Prob (F-statistic):               0.00\n",
      "Time:                        13:10:09   Log-Likelihood:                -6166.0\n",
      "No. Observations:                2798   AIC:                         1.235e+04\n",
      "Df Residuals:                    2788   BIC:                         1.241e+04\n",
      "Df Model:                           9                                         \n",
      "Covariance Type:            nonrobust                                         \n",
      "==============================================================================\n",
      "                 coef    std err          t      P>|t|      [0.025      0.975]\n",
      "------------------------------------------------------------------------------\n",
      "const          9.9929      0.042    240.723      0.000       9.911      10.074\n",
      "x1             0.1198      0.271      0.442      0.658      -0.411       0.651\n",
      "x2             0.9701      0.274      3.538      0.000       0.432       1.508\n",
      "x3             0.4274      0.074      5.781      0.000       0.282       0.572\n",
      "x4             4.9119      0.470     10.456      0.000       3.991       5.833\n",
      "x5            -4.7953      0.237    -20.202      0.000      -5.261      -4.330\n",
      "x6            -1.1995      0.177     -6.785      0.000      -1.546      -0.853\n",
      "x7             1.1304      0.201      5.613      0.000       0.736       1.525\n",
      "x8            -0.3499      0.058     -6.006      0.000      -0.464      -0.236\n",
      "x9             0.0443      0.049      0.905      0.366      -0.052       0.140\n",
      "==============================================================================\n",
      "Omnibus:                      616.708   Durbin-Watson:                   1.974\n",
      "Prob(Omnibus):                  0.000   Jarque-Bera (JB):             1804.766\n",
      "Skew:                           1.134   Prob(JB):                         0.00\n",
      "Kurtosis:                       6.216   Cond. No.                         34.5\n",
      "==============================================================================\n",
      "\n",
      "Notes:\n",
      "[1] Standard Errors assume that the covariance matrix of the errors is correctly specified.\n"
     ]
    }
   ],
   "source": [
    "#Fit a regression model\n",
    "import statsmodels.api as sm\n",
    "\n",
    "# Add an intercept (required for statsmodels OLS)\n",
    "X_with_intercept = sm.add_constant(X_train_scaled)\n",
    "\n",
    "# Fit the model\n",
    "model = sm.OLS(y_train, X_with_intercept)  # Pass X (with intercept) and y\n",
    "results = model.fit()\n",
    "\n",
    "print(results.summary())"
   ]
  },
  {
   "cell_type": "code",
   "execution_count": 113,
   "id": "86e6b676-3c48-4b81-88eb-7aba298880b4",
   "metadata": {},
   "outputs": [
    {
     "data": {
      "text/html": [
       "<style>#sk-container-id-4 {\n",
       "  /* Definition of color scheme common for light and dark mode */\n",
       "  --sklearn-color-text: black;\n",
       "  --sklearn-color-line: gray;\n",
       "  /* Definition of color scheme for unfitted estimators */\n",
       "  --sklearn-color-unfitted-level-0: #fff5e6;\n",
       "  --sklearn-color-unfitted-level-1: #f6e4d2;\n",
       "  --sklearn-color-unfitted-level-2: #ffe0b3;\n",
       "  --sklearn-color-unfitted-level-3: chocolate;\n",
       "  /* Definition of color scheme for fitted estimators */\n",
       "  --sklearn-color-fitted-level-0: #f0f8ff;\n",
       "  --sklearn-color-fitted-level-1: #d4ebff;\n",
       "  --sklearn-color-fitted-level-2: #b3dbfd;\n",
       "  --sklearn-color-fitted-level-3: cornflowerblue;\n",
       "\n",
       "  /* Specific color for light theme */\n",
       "  --sklearn-color-text-on-default-background: var(--sg-text-color, var(--theme-code-foreground, var(--jp-content-font-color1, black)));\n",
       "  --sklearn-color-background: var(--sg-background-color, var(--theme-background, var(--jp-layout-color0, white)));\n",
       "  --sklearn-color-border-box: var(--sg-text-color, var(--theme-code-foreground, var(--jp-content-font-color1, black)));\n",
       "  --sklearn-color-icon: #696969;\n",
       "\n",
       "  @media (prefers-color-scheme: dark) {\n",
       "    /* Redefinition of color scheme for dark theme */\n",
       "    --sklearn-color-text-on-default-background: var(--sg-text-color, var(--theme-code-foreground, var(--jp-content-font-color1, white)));\n",
       "    --sklearn-color-background: var(--sg-background-color, var(--theme-background, var(--jp-layout-color0, #111)));\n",
       "    --sklearn-color-border-box: var(--sg-text-color, var(--theme-code-foreground, var(--jp-content-font-color1, white)));\n",
       "    --sklearn-color-icon: #878787;\n",
       "  }\n",
       "}\n",
       "\n",
       "#sk-container-id-4 {\n",
       "  color: var(--sklearn-color-text);\n",
       "}\n",
       "\n",
       "#sk-container-id-4 pre {\n",
       "  padding: 0;\n",
       "}\n",
       "\n",
       "#sk-container-id-4 input.sk-hidden--visually {\n",
       "  border: 0;\n",
       "  clip: rect(1px 1px 1px 1px);\n",
       "  clip: rect(1px, 1px, 1px, 1px);\n",
       "  height: 1px;\n",
       "  margin: -1px;\n",
       "  overflow: hidden;\n",
       "  padding: 0;\n",
       "  position: absolute;\n",
       "  width: 1px;\n",
       "}\n",
       "\n",
       "#sk-container-id-4 div.sk-dashed-wrapped {\n",
       "  border: 1px dashed var(--sklearn-color-line);\n",
       "  margin: 0 0.4em 0.5em 0.4em;\n",
       "  box-sizing: border-box;\n",
       "  padding-bottom: 0.4em;\n",
       "  background-color: var(--sklearn-color-background);\n",
       "}\n",
       "\n",
       "#sk-container-id-4 div.sk-container {\n",
       "  /* jupyter's `normalize.less` sets `[hidden] { display: none; }`\n",
       "     but bootstrap.min.css set `[hidden] { display: none !important; }`\n",
       "     so we also need the `!important` here to be able to override the\n",
       "     default hidden behavior on the sphinx rendered scikit-learn.org.\n",
       "     See: https://github.com/scikit-learn/scikit-learn/issues/21755 */\n",
       "  display: inline-block !important;\n",
       "  position: relative;\n",
       "}\n",
       "\n",
       "#sk-container-id-4 div.sk-text-repr-fallback {\n",
       "  display: none;\n",
       "}\n",
       "\n",
       "div.sk-parallel-item,\n",
       "div.sk-serial,\n",
       "div.sk-item {\n",
       "  /* draw centered vertical line to link estimators */\n",
       "  background-image: linear-gradient(var(--sklearn-color-text-on-default-background), var(--sklearn-color-text-on-default-background));\n",
       "  background-size: 2px 100%;\n",
       "  background-repeat: no-repeat;\n",
       "  background-position: center center;\n",
       "}\n",
       "\n",
       "/* Parallel-specific style estimator block */\n",
       "\n",
       "#sk-container-id-4 div.sk-parallel-item::after {\n",
       "  content: \"\";\n",
       "  width: 100%;\n",
       "  border-bottom: 2px solid var(--sklearn-color-text-on-default-background);\n",
       "  flex-grow: 1;\n",
       "}\n",
       "\n",
       "#sk-container-id-4 div.sk-parallel {\n",
       "  display: flex;\n",
       "  align-items: stretch;\n",
       "  justify-content: center;\n",
       "  background-color: var(--sklearn-color-background);\n",
       "  position: relative;\n",
       "}\n",
       "\n",
       "#sk-container-id-4 div.sk-parallel-item {\n",
       "  display: flex;\n",
       "  flex-direction: column;\n",
       "}\n",
       "\n",
       "#sk-container-id-4 div.sk-parallel-item:first-child::after {\n",
       "  align-self: flex-end;\n",
       "  width: 50%;\n",
       "}\n",
       "\n",
       "#sk-container-id-4 div.sk-parallel-item:last-child::after {\n",
       "  align-self: flex-start;\n",
       "  width: 50%;\n",
       "}\n",
       "\n",
       "#sk-container-id-4 div.sk-parallel-item:only-child::after {\n",
       "  width: 0;\n",
       "}\n",
       "\n",
       "/* Serial-specific style estimator block */\n",
       "\n",
       "#sk-container-id-4 div.sk-serial {\n",
       "  display: flex;\n",
       "  flex-direction: column;\n",
       "  align-items: center;\n",
       "  background-color: var(--sklearn-color-background);\n",
       "  padding-right: 1em;\n",
       "  padding-left: 1em;\n",
       "}\n",
       "\n",
       "\n",
       "/* Toggleable style: style used for estimator/Pipeline/ColumnTransformer box that is\n",
       "clickable and can be expanded/collapsed.\n",
       "- Pipeline and ColumnTransformer use this feature and define the default style\n",
       "- Estimators will overwrite some part of the style using the `sk-estimator` class\n",
       "*/\n",
       "\n",
       "/* Pipeline and ColumnTransformer style (default) */\n",
       "\n",
       "#sk-container-id-4 div.sk-toggleable {\n",
       "  /* Default theme specific background. It is overwritten whether we have a\n",
       "  specific estimator or a Pipeline/ColumnTransformer */\n",
       "  background-color: var(--sklearn-color-background);\n",
       "}\n",
       "\n",
       "/* Toggleable label */\n",
       "#sk-container-id-4 label.sk-toggleable__label {\n",
       "  cursor: pointer;\n",
       "  display: block;\n",
       "  width: 100%;\n",
       "  margin-bottom: 0;\n",
       "  padding: 0.5em;\n",
       "  box-sizing: border-box;\n",
       "  text-align: center;\n",
       "}\n",
       "\n",
       "#sk-container-id-4 label.sk-toggleable__label-arrow:before {\n",
       "  /* Arrow on the left of the label */\n",
       "  content: \"▸\";\n",
       "  float: left;\n",
       "  margin-right: 0.25em;\n",
       "  color: var(--sklearn-color-icon);\n",
       "}\n",
       "\n",
       "#sk-container-id-4 label.sk-toggleable__label-arrow:hover:before {\n",
       "  color: var(--sklearn-color-text);\n",
       "}\n",
       "\n",
       "/* Toggleable content - dropdown */\n",
       "\n",
       "#sk-container-id-4 div.sk-toggleable__content {\n",
       "  max-height: 0;\n",
       "  max-width: 0;\n",
       "  overflow: hidden;\n",
       "  text-align: left;\n",
       "  /* unfitted */\n",
       "  background-color: var(--sklearn-color-unfitted-level-0);\n",
       "}\n",
       "\n",
       "#sk-container-id-4 div.sk-toggleable__content.fitted {\n",
       "  /* fitted */\n",
       "  background-color: var(--sklearn-color-fitted-level-0);\n",
       "}\n",
       "\n",
       "#sk-container-id-4 div.sk-toggleable__content pre {\n",
       "  margin: 0.2em;\n",
       "  border-radius: 0.25em;\n",
       "  color: var(--sklearn-color-text);\n",
       "  /* unfitted */\n",
       "  background-color: var(--sklearn-color-unfitted-level-0);\n",
       "}\n",
       "\n",
       "#sk-container-id-4 div.sk-toggleable__content.fitted pre {\n",
       "  /* unfitted */\n",
       "  background-color: var(--sklearn-color-fitted-level-0);\n",
       "}\n",
       "\n",
       "#sk-container-id-4 input.sk-toggleable__control:checked~div.sk-toggleable__content {\n",
       "  /* Expand drop-down */\n",
       "  max-height: 200px;\n",
       "  max-width: 100%;\n",
       "  overflow: auto;\n",
       "}\n",
       "\n",
       "#sk-container-id-4 input.sk-toggleable__control:checked~label.sk-toggleable__label-arrow:before {\n",
       "  content: \"▾\";\n",
       "}\n",
       "\n",
       "/* Pipeline/ColumnTransformer-specific style */\n",
       "\n",
       "#sk-container-id-4 div.sk-label input.sk-toggleable__control:checked~label.sk-toggleable__label {\n",
       "  color: var(--sklearn-color-text);\n",
       "  background-color: var(--sklearn-color-unfitted-level-2);\n",
       "}\n",
       "\n",
       "#sk-container-id-4 div.sk-label.fitted input.sk-toggleable__control:checked~label.sk-toggleable__label {\n",
       "  background-color: var(--sklearn-color-fitted-level-2);\n",
       "}\n",
       "\n",
       "/* Estimator-specific style */\n",
       "\n",
       "/* Colorize estimator box */\n",
       "#sk-container-id-4 div.sk-estimator input.sk-toggleable__control:checked~label.sk-toggleable__label {\n",
       "  /* unfitted */\n",
       "  background-color: var(--sklearn-color-unfitted-level-2);\n",
       "}\n",
       "\n",
       "#sk-container-id-4 div.sk-estimator.fitted input.sk-toggleable__control:checked~label.sk-toggleable__label {\n",
       "  /* fitted */\n",
       "  background-color: var(--sklearn-color-fitted-level-2);\n",
       "}\n",
       "\n",
       "#sk-container-id-4 div.sk-label label.sk-toggleable__label,\n",
       "#sk-container-id-4 div.sk-label label {\n",
       "  /* The background is the default theme color */\n",
       "  color: var(--sklearn-color-text-on-default-background);\n",
       "}\n",
       "\n",
       "/* On hover, darken the color of the background */\n",
       "#sk-container-id-4 div.sk-label:hover label.sk-toggleable__label {\n",
       "  color: var(--sklearn-color-text);\n",
       "  background-color: var(--sklearn-color-unfitted-level-2);\n",
       "}\n",
       "\n",
       "/* Label box, darken color on hover, fitted */\n",
       "#sk-container-id-4 div.sk-label.fitted:hover label.sk-toggleable__label.fitted {\n",
       "  color: var(--sklearn-color-text);\n",
       "  background-color: var(--sklearn-color-fitted-level-2);\n",
       "}\n",
       "\n",
       "/* Estimator label */\n",
       "\n",
       "#sk-container-id-4 div.sk-label label {\n",
       "  font-family: monospace;\n",
       "  font-weight: bold;\n",
       "  display: inline-block;\n",
       "  line-height: 1.2em;\n",
       "}\n",
       "\n",
       "#sk-container-id-4 div.sk-label-container {\n",
       "  text-align: center;\n",
       "}\n",
       "\n",
       "/* Estimator-specific */\n",
       "#sk-container-id-4 div.sk-estimator {\n",
       "  font-family: monospace;\n",
       "  border: 1px dotted var(--sklearn-color-border-box);\n",
       "  border-radius: 0.25em;\n",
       "  box-sizing: border-box;\n",
       "  margin-bottom: 0.5em;\n",
       "  /* unfitted */\n",
       "  background-color: var(--sklearn-color-unfitted-level-0);\n",
       "}\n",
       "\n",
       "#sk-container-id-4 div.sk-estimator.fitted {\n",
       "  /* fitted */\n",
       "  background-color: var(--sklearn-color-fitted-level-0);\n",
       "}\n",
       "\n",
       "/* on hover */\n",
       "#sk-container-id-4 div.sk-estimator:hover {\n",
       "  /* unfitted */\n",
       "  background-color: var(--sklearn-color-unfitted-level-2);\n",
       "}\n",
       "\n",
       "#sk-container-id-4 div.sk-estimator.fitted:hover {\n",
       "  /* fitted */\n",
       "  background-color: var(--sklearn-color-fitted-level-2);\n",
       "}\n",
       "\n",
       "/* Specification for estimator info (e.g. \"i\" and \"?\") */\n",
       "\n",
       "/* Common style for \"i\" and \"?\" */\n",
       "\n",
       ".sk-estimator-doc-link,\n",
       "a:link.sk-estimator-doc-link,\n",
       "a:visited.sk-estimator-doc-link {\n",
       "  float: right;\n",
       "  font-size: smaller;\n",
       "  line-height: 1em;\n",
       "  font-family: monospace;\n",
       "  background-color: var(--sklearn-color-background);\n",
       "  border-radius: 1em;\n",
       "  height: 1em;\n",
       "  width: 1em;\n",
       "  text-decoration: none !important;\n",
       "  margin-left: 1ex;\n",
       "  /* unfitted */\n",
       "  border: var(--sklearn-color-unfitted-level-1) 1pt solid;\n",
       "  color: var(--sklearn-color-unfitted-level-1);\n",
       "}\n",
       "\n",
       ".sk-estimator-doc-link.fitted,\n",
       "a:link.sk-estimator-doc-link.fitted,\n",
       "a:visited.sk-estimator-doc-link.fitted {\n",
       "  /* fitted */\n",
       "  border: var(--sklearn-color-fitted-level-1) 1pt solid;\n",
       "  color: var(--sklearn-color-fitted-level-1);\n",
       "}\n",
       "\n",
       "/* On hover */\n",
       "div.sk-estimator:hover .sk-estimator-doc-link:hover,\n",
       ".sk-estimator-doc-link:hover,\n",
       "div.sk-label-container:hover .sk-estimator-doc-link:hover,\n",
       ".sk-estimator-doc-link:hover {\n",
       "  /* unfitted */\n",
       "  background-color: var(--sklearn-color-unfitted-level-3);\n",
       "  color: var(--sklearn-color-background);\n",
       "  text-decoration: none;\n",
       "}\n",
       "\n",
       "div.sk-estimator.fitted:hover .sk-estimator-doc-link.fitted:hover,\n",
       ".sk-estimator-doc-link.fitted:hover,\n",
       "div.sk-label-container:hover .sk-estimator-doc-link.fitted:hover,\n",
       ".sk-estimator-doc-link.fitted:hover {\n",
       "  /* fitted */\n",
       "  background-color: var(--sklearn-color-fitted-level-3);\n",
       "  color: var(--sklearn-color-background);\n",
       "  text-decoration: none;\n",
       "}\n",
       "\n",
       "/* Span, style for the box shown on hovering the info icon */\n",
       ".sk-estimator-doc-link span {\n",
       "  display: none;\n",
       "  z-index: 9999;\n",
       "  position: relative;\n",
       "  font-weight: normal;\n",
       "  right: .2ex;\n",
       "  padding: .5ex;\n",
       "  margin: .5ex;\n",
       "  width: min-content;\n",
       "  min-width: 20ex;\n",
       "  max-width: 50ex;\n",
       "  color: var(--sklearn-color-text);\n",
       "  box-shadow: 2pt 2pt 4pt #999;\n",
       "  /* unfitted */\n",
       "  background: var(--sklearn-color-unfitted-level-0);\n",
       "  border: .5pt solid var(--sklearn-color-unfitted-level-3);\n",
       "}\n",
       "\n",
       ".sk-estimator-doc-link.fitted span {\n",
       "  /* fitted */\n",
       "  background: var(--sklearn-color-fitted-level-0);\n",
       "  border: var(--sklearn-color-fitted-level-3);\n",
       "}\n",
       "\n",
       ".sk-estimator-doc-link:hover span {\n",
       "  display: block;\n",
       "}\n",
       "\n",
       "/* \"?\"-specific style due to the `<a>` HTML tag */\n",
       "\n",
       "#sk-container-id-4 a.estimator_doc_link {\n",
       "  float: right;\n",
       "  font-size: 1rem;\n",
       "  line-height: 1em;\n",
       "  font-family: monospace;\n",
       "  background-color: var(--sklearn-color-background);\n",
       "  border-radius: 1rem;\n",
       "  height: 1rem;\n",
       "  width: 1rem;\n",
       "  text-decoration: none;\n",
       "  /* unfitted */\n",
       "  color: var(--sklearn-color-unfitted-level-1);\n",
       "  border: var(--sklearn-color-unfitted-level-1) 1pt solid;\n",
       "}\n",
       "\n",
       "#sk-container-id-4 a.estimator_doc_link.fitted {\n",
       "  /* fitted */\n",
       "  border: var(--sklearn-color-fitted-level-1) 1pt solid;\n",
       "  color: var(--sklearn-color-fitted-level-1);\n",
       "}\n",
       "\n",
       "/* On hover */\n",
       "#sk-container-id-4 a.estimator_doc_link:hover {\n",
       "  /* unfitted */\n",
       "  background-color: var(--sklearn-color-unfitted-level-3);\n",
       "  color: var(--sklearn-color-background);\n",
       "  text-decoration: none;\n",
       "}\n",
       "\n",
       "#sk-container-id-4 a.estimator_doc_link.fitted:hover {\n",
       "  /* fitted */\n",
       "  background-color: var(--sklearn-color-fitted-level-3);\n",
       "}\n",
       "</style><div id=\"sk-container-id-4\" class=\"sk-top-container\"><div class=\"sk-text-repr-fallback\"><pre>RidgeCV(alphas=array([1.00000000e-10, 1.45634848e-10, 2.12095089e-10, 3.08884360e-10,\n",
       "       4.49843267e-10, 6.55128557e-10, 9.54095476e-10, 1.38949549e-09,\n",
       "       2.02358965e-09, 2.94705170e-09, 4.29193426e-09, 6.25055193e-09,\n",
       "       9.10298178e-09, 1.32571137e-08, 1.93069773e-08, 2.81176870e-08,\n",
       "       4.09491506e-08, 5.96362332e-08, 8.68511374e-08, 1.26485522e-07,\n",
       "       1.84206997e-07, 2.68269580e-0...\n",
       "       3.72759372e-06, 5.42867544e-06, 7.90604321e-06, 1.15139540e-05,\n",
       "       1.67683294e-05, 2.44205309e-05, 3.55648031e-05, 5.17947468e-05,\n",
       "       7.54312006e-05, 1.09854114e-04, 1.59985872e-04, 2.32995181e-04,\n",
       "       3.39322177e-04, 4.94171336e-04, 7.19685673e-04, 1.04811313e-03,\n",
       "       1.52641797e-03, 2.22299648e-03, 3.23745754e-03, 4.71486636e-03,\n",
       "       6.86648845e-03, 1.00000000e-02]),\n",
       "        store_cv_results=True)</pre><b>In a Jupyter environment, please rerun this cell to show the HTML representation or trust the notebook. <br />On GitHub, the HTML representation is unable to render, please try loading this page with nbviewer.org.</b></div><div class=\"sk-container\" hidden><div class=\"sk-item\"><div class=\"sk-estimator fitted sk-toggleable\"><input class=\"sk-toggleable__control sk-hidden--visually\" id=\"sk-estimator-id-4\" type=\"checkbox\" checked><label for=\"sk-estimator-id-4\" class=\"sk-toggleable__label fitted sk-toggleable__label-arrow fitted\">&nbsp;&nbsp;RidgeCV<a class=\"sk-estimator-doc-link fitted\" rel=\"noreferrer\" target=\"_blank\" href=\"https://scikit-learn.org/1.5/modules/generated/sklearn.linear_model.RidgeCV.html\">?<span>Documentation for RidgeCV</span></a><span class=\"sk-estimator-doc-link fitted\">i<span>Fitted</span></span></label><div class=\"sk-toggleable__content fitted\"><pre>RidgeCV(alphas=array([1.00000000e-10, 1.45634848e-10, 2.12095089e-10, 3.08884360e-10,\n",
       "       4.49843267e-10, 6.55128557e-10, 9.54095476e-10, 1.38949549e-09,\n",
       "       2.02358965e-09, 2.94705170e-09, 4.29193426e-09, 6.25055193e-09,\n",
       "       9.10298178e-09, 1.32571137e-08, 1.93069773e-08, 2.81176870e-08,\n",
       "       4.09491506e-08, 5.96362332e-08, 8.68511374e-08, 1.26485522e-07,\n",
       "       1.84206997e-07, 2.68269580e-0...\n",
       "       3.72759372e-06, 5.42867544e-06, 7.90604321e-06, 1.15139540e-05,\n",
       "       1.67683294e-05, 2.44205309e-05, 3.55648031e-05, 5.17947468e-05,\n",
       "       7.54312006e-05, 1.09854114e-04, 1.59985872e-04, 2.32995181e-04,\n",
       "       3.39322177e-04, 4.94171336e-04, 7.19685673e-04, 1.04811313e-03,\n",
       "       1.52641797e-03, 2.22299648e-03, 3.23745754e-03, 4.71486636e-03,\n",
       "       6.86648845e-03, 1.00000000e-02]),\n",
       "        store_cv_results=True)</pre></div> </div></div></div></div>"
      ],
      "text/plain": [
       "RidgeCV(alphas=array([1.00000000e-10, 1.45634848e-10, 2.12095089e-10, 3.08884360e-10,\n",
       "       4.49843267e-10, 6.55128557e-10, 9.54095476e-10, 1.38949549e-09,\n",
       "       2.02358965e-09, 2.94705170e-09, 4.29193426e-09, 6.25055193e-09,\n",
       "       9.10298178e-09, 1.32571137e-08, 1.93069773e-08, 2.81176870e-08,\n",
       "       4.09491506e-08, 5.96362332e-08, 8.68511374e-08, 1.26485522e-07,\n",
       "       1.84206997e-07, 2.68269580e-0...\n",
       "       3.72759372e-06, 5.42867544e-06, 7.90604321e-06, 1.15139540e-05,\n",
       "       1.67683294e-05, 2.44205309e-05, 3.55648031e-05, 5.17947468e-05,\n",
       "       7.54312006e-05, 1.09854114e-04, 1.59985872e-04, 2.32995181e-04,\n",
       "       3.39322177e-04, 4.94171336e-04, 7.19685673e-04, 1.04811313e-03,\n",
       "       1.52641797e-03, 2.22299648e-03, 3.23745754e-03, 4.71486636e-03,\n",
       "       6.86648845e-03, 1.00000000e-02]),\n",
       "        store_cv_results=True)"
      ]
     },
     "execution_count": 113,
     "metadata": {},
     "output_type": "execute_result"
    }
   ],
   "source": [
    "# Ridge regression with varying alphas\n",
    "n_alphas = 50\n",
    "alphas = np.logspace(-10, -2, n_alphas) # reduced alphas for run time for time being\n",
    "ridge = RidgeCV(alphas=alphas,  store_cv_results=True) # removing cv = , can't have both cv = and store_cv_results = True\n",
    "\n",
    "ridge.fit(X_train_scaled, y_train)"
   ]
  },
  {
   "cell_type": "code",
   "execution_count": 114,
   "id": "2919773b-56af-4bd9-a40f-3484fe0db4ff",
   "metadata": {},
   "outputs": [],
   "source": [
    "coefs = []\n",
    "for a in alphas:\n",
    "    ridge = linear_model.Ridge(alpha=a, fit_intercept=False)\n",
    "    ridge.fit(X_train_scaled, y_train)\n",
    "    coefs.append(ridge.coef_)"
   ]
  },
  {
   "cell_type": "code",
   "execution_count": 115,
   "id": "746a7bb3-e3dc-432f-afe4-cc4b61e1c9da",
   "metadata": {},
   "outputs": [
    {
     "data": {
      "image/png": "[encoded data removed]",
      "text/plain": [
       "<Figure size 432x288 with 1 Axes>"
      ]
     },
     "metadata": {
      "needs_background": "light"
     },
     "output_type": "display_data"
    }
   ],
   "source": [
    "coefs = np.squeeze(coefs)  # Remove dimensions of size 1\n",
    "ax = plt.gca()\n",
    "\n",
    "ax.plot(alphas, coefs)\n",
    "ax.set_xscale(\"log\")\n",
    "ax.set_xlim(ax.get_xlim()[::-1])  # reverse axis\n",
    "plt.xlabel(\"alpha\")\n",
    "plt.ylabel(\"weights\")\n",
    "plt.title(\"Ridge coefficients as a function of the regularization\")\n",
    "plt.axis(\"tight\")\n",
    "plt.show()"
   ]
  },
  {
   "cell_type": "code",
   "execution_count": 128,
   "id": "d44f05cd-d05c-473f-85d9-a725d8f24830",
   "metadata": {},
   "outputs": [],
   "source": [
    "# Ridge regression with cross-validation\n",
    "ridge = RidgeCV(alphas=alphas, store_cv_results=True)\n",
    "ridge.fit(X_train_scaled, y_train.values.ravel())  # Use .ravel() for compatibility\n",
    "\n",
    "# Extract the cross-validation results\n",
    "cv_mse = ridge.cv_results_.mean(axis=0)  # Mean MSE across folds for each alpha"
   ]
  },
  {
   "cell_type": "code",
   "execution_count": 130,
   "id": "07320cf4-8031-4c58-9359-36f398a4df27",
   "metadata": {},
   "outputs": [
    {
     "data": {
      "image/png": "[encoded data removed]",
      "text/plain": [
       "<Figure size 720x432 with 1 Axes>"
      ]
     },
     "metadata": {
      "needs_background": "light"
     },
     "output_type": "display_data"
    }
   ],
   "source": [
    "# Plot Ridge results\n",
    "plt.figure(figsize=(10, 6))\n",
    "plt.plot(np.log10(alphas), cv_mse, label=\"CV Error\")\n",
    "#plt.axvline(np.log10(ridge.alpha_), linestyle=\"--\", color=\"red\", label=f\"Best Alpha: {ridge.alpha_:.4e}\")\n",
    "plt.xlabel(\"Log(Alpha)\")\n",
    "plt.ylabel(\"Cross-Validated MSE\")\n",
    "plt.title(\"Ridge Regression CV Results\")\n",
    "plt.legend()\n",
    "plt.show()"
   ]
  },
  {
   "cell_type": "markdown",
   "id": "ae2d8b18-e8ed-4b95-8cd3-afc3dc83f456",
   "metadata": {},
   "source": [
    "Lasso Regression and Cross Validation\n",
    "Question 4 & 5: Fit lasso regression using LassoCV and interpret the results."
   ]
  },
  {
   "cell_type": "code",
   "execution_count": 119,
   "id": "447a5a2e-1995-4f8c-9d5d-10f72c1d2f45",
   "metadata": {},
   "outputs": [
    {
     "data": {
      "image/png": "[encoded data removed]",
      "text/plain": [
       "<Figure size 720x432 with 1 Axes>"
      ]
     },
     "metadata": {
      "needs_background": "light"
     },
     "output_type": "display_data"
    }
   ],
   "source": [
    "from sklearn.linear_model import LassoCV\n",
    "\n",
    "# Lasso regression with cross-validation\n",
    "lasso = LassoCV(alphas=alphas, cv=10, random_state=42)\n",
    "lasso.fit(X_train_scaled,y_train.values.ravel()) # included .ravel to make 1D to avoid warning message \n",
    "\n",
    "# Plot Lasso results\n",
    "plt.figure(figsize=(10, 6))\n",
    "plt.plot(np.log10(lasso.alphas_), lasso.mse_path_.mean(axis=1), label=\"CV Error\")\n",
    "plt.xlabel(\"Log(Lambda)\")\n",
    "plt.ylabel(\"Cross-Validated MSE\")\n",
    "plt.title(\"Lasso Regression CV Results\")\n",
    "plt.legend()\n",
    "plt.show()\n"
   ]
  },
  {
   "cell_type": "markdown",
   "id": "cca2faec-865f-471c-a347-f577bc550253",
   "metadata": {},
   "source": [
    "Tuning and Model Comparison\n",
    "Question 6 & 7: Find the minimum MSE and associated lambda for both Ridge and Lass"
   ]
  },
  {
   "cell_type": "code",
   "execution_count": 133,
   "id": "aa9911a3-988e-4b61-9aa1-2aa1da535095",
   "metadata": {},
   "outputs": [
    {
     "name": "stdout",
     "output_type": "stream",
     "text": [
      "1e-10\n"
     ]
    }
   ],
   "source": [
    "# Ridge results\n",
    "ridge_min_mse = -ridge.best_score_  # Convert negative score to positive MSE\n",
    "ridge_best_alpha = ridge.alpha_\n",
    "print(ridge_best_alpha)"
   ]
  },
  {
   "cell_type": "code",
   "execution_count": 134,
   "id": "2a48468e-b484-4c03-a890-c4fbd17be827",
   "metadata": {},
   "outputs": [
    {
     "name": "stdout",
     "output_type": "stream",
     "text": [
      "Ridge - Minimum MSE: 5.068543197311316, Best Alpha: 1e-10\n",
      "Lasso - Minimum MSE: 3.703120580543633, Best Alpha: 0.0003393221771895323\n"
     ]
    }
   ],
   "source": [
    "# Lasso results\n",
    "lasso_min_mse = lasso.mse_path_.min()\n",
    "lasso_best_alpha = lasso.alpha_\n",
    "\n",
    "print(f\"Ridge - Minimum MSE: {ridge_min_mse}, Best Alpha: {ridge_best_alpha}\")\n",
    "print(f\"Lasso - Minimum MSE: {lasso_min_mse}, Best Alpha: {lasso_best_alpha}\")"
   ]
  },
  {
   "cell_type": "markdown",
   "id": "9a4691e6-47ae-44ca-8446-9d950c1ea441",
   "metadata": {},
   "source": [
    "Question 8: Use the \"one-standard-error\" rule and find the number of predictors in the Lasso model."
   ]
  },
  {
   "cell_type": "code",
   "execution_count": 21,
   "id": "0a0c8a3f-40f1-41bd-b535-6a523f93672a",
   "metadata": {},
   "outputs": [
    {
     "name": "stdout",
     "output_type": "stream",
     "text": [
      "Lasso 1-SE Rule Alpha: 0.08685113737513521\n",
      "Number of Predictors in Lasso (1-SE): 1\n"
     ]
    }
   ],
   "source": [
    "# One-standard-error rule for Lasso\n",
    "lasso_best_alpha_1se = lasso.alphas_[np.where(\n",
    "    lasso.mse_path_.mean(axis=1) <= (lasso.mse_path_.mean(axis=1).min() + lasso.mse_path_.std(axis=1).mean())\n",
    ")[0][0]]\n",
    "\n",
    "lasso_1se_model = Lasso(alpha=lasso_best_alpha_1se)\n",
    "lasso_1se_model.fit(X_train_scaled, y_train)\n",
    "\n",
    "print(f\"Lasso 1-SE Rule Alpha: {lasso_best_alpha_1se}\")\n",
    "print(f\"Number of Predictors in Lasso (1-SE): {np.sum(lasso_1se_model.coef_ != 0)}\")\n"
   ]
  },
  {
   "cell_type": "markdown",
   "id": "9975e6f2-ae06-421c-a872-5fc08fc38573",
   "metadata": {},
   "source": [
    "Question 9: Compare the performance of your Ridge and Lasso models."
   ]
  },
  {
   "cell_type": "code",
   "execution_count": null,
   "id": "bfe5f233-b49f-4f03-85fd-6baf6944650e",
   "metadata": {},
   "outputs": [],
   "source": []
  }
 ],
 "metadata": {
  "kernelspec": {
   "display_name": "Python 3 (ipykernel)",
   "language": "python",
   "name": "python3"
  },
  "language_info": {
   "codemirror_mode": {
    "name": "ipython",
    "version": 3
   },
   "file_extension": ".py",
   "mimetype": "text/x-python",
   "name": "python",
   "nbconvert_exporter": "python",
   "pygments_lexer": "ipython3",
   "version": "3.9.7"
  }
 },
 "nbformat": 4,
 "nbformat_minor": 5
}
