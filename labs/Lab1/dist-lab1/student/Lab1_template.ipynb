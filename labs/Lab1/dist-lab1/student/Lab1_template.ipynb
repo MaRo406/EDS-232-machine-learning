{
 "cells": [
  {
   "cell_type": "code",
   "execution_count": null,
   "id": "21746b8a",
   "metadata": {
    "deletable": false,
    "editable": false
   },
   "outputs": [],
   "source": [
    "# Initialize Otter\n",
    "import otter\n",
    "grader = otter.Notebook(\"Lab1_template.ipynb\")"
   ]
  },
  {
   "cell_type": "markdown",
   "id": "08d45d18-d45b-43a3-95e4-2696e99f5f77",
   "metadata": {},
   "source": [
    "# EDS232 Lab 1: Regression\n",
    "\n",
    "## General Lab Template\n",
    "1. Look at the big picture.\n",
    "2. Get the data.\n",
    "3. Explore and visualize the data to gain insights.\n",
    "4. Prepare the data for machine learning algorithms.\n",
    "5. Select a model and train it.\n",
    "6. Fine-tune your model.\n",
    "7. Present your solution.\n",
    "\n",
    "## Overview\n",
    "In this lab, we will introduce the basics of machine learning in **Python** by focusing on **regression**, a core technique used to predict continuous outcomes. We will use the popular **scikit-learn** library, which provides easy-to-use tools for building and evaluating machine learning models.\n",
    "Specifically, we will focus on how regression algorithms can help us model and predict abalone data.\n",
    "\n",
    "## Objectives\n",
    "By the end of this lab, you will be able to:\n",
    "- Understand the concept of regression and its implementation in Pythnon\n",
    "- Implement simple and multiple linear regression models\n",
    "- Evaluate model performance using various metrics like **R²**, **MSE**, and **RMSE**\n",
    "- Visualize regression prediction results \n",
    "\n",
    "## Key Concepts\n",
    "- **Machine Learning**: A subset of artificial intelligence where algorithms learn patterns from data to make predictions or decisions without being explicitly programmed.\n",
    "- **Regression**: A machine learning method for predicting continuous values.\n",
    "  - **Simple Linear Regression**: A regression model with one independent variable.\n",
    "  - **Multiple Linear Regression**: A regression model with two or more independent variables.\n",
    "  \n",
    "- **Scikit-learn**: A Python library that provides simple and efficient tools for data mining and machine learning. We will use it for:\n",
    "  - **Data Preprocessing**: Preparing data for the model.\n",
    "  - **Model Training**: Fitting the regression model to our data.\n",
    "  - **Model Evaluation**: Assessing model performance using model evaluation metrics\n",
    "\n",
    "- **Model Evaluation Metrics**: Tools to assess how well our model fits the data, such as:\n",
    "  - **R² (R-squared)**: Measures the proportion of variance in the dependent variable that is predictable from the independent variable(s).\n",
    "  - **MAE (Mean Absolute Error)**: The average of the absolute differences between predicted and actual values.\n",
    "  - **RMSE (Root Mean Square Error)**: The square root of the average squared differences between predicted and actual values.\n",
    "\n"
   ]
  },
  {
   "cell_type": "markdown",
   "id": "fb7e6ccf-0e23-461a-92de-33fb1d57f5ee",
   "metadata": {},
   "source": [
    "### Step 1: Import libraries and load data\n"
   ]
  },
  {
   "cell_type": "markdown",
   "id": "54c3c7f8-3c2b-49f1-a678-a81132862f6c",
   "metadata": {},
   "source": [
    "#### About the data\n",
    "\n",
    "- We will be working with data dealing with physical abalone features. This dataset has observations of more than 4,000 abalone, measuring their length, diameter, height, and different rings. The data can be found here : https://archive.ics.uci.edu/dataset/1/abalone. \n",
    "\n",
    "\n",
    "- Notice that the data is not a csv file and is instead a .data file! The .data file does not contain any column names, so we therefore need to specify the column names when we read our data in using `pd.read_csv`. Look at the metadata and assign column names to the data. When you are finished, look at the head of the dataframe to ensure it looks correct. \n"
   ]
  },
  {
   "cell_type": "code",
   "execution_count": null,
   "id": "a8750236-65ab-42f3-ab22-763eb6d22161",
   "metadata": {},
   "outputs": [],
   "source": [
    "import numpy as np \n",
    "import pandas as pd\n",
    "import matplotlib.pyplot as plt\n",
    "import seaborn as sns\n",
    "from sklearn.model_selection import train_test_split\n",
    "from sklearn.linear_model import LinearRegression"
   ]
  },
  {
   "cell_type": "code",
   "execution_count": null,
   "id": "89f228b0-99d4-4900-9adf-ca6761b67940",
   "metadata": {},
   "outputs": [],
   "source": [
    "hurricane_do = pd.read_csv('data/Hurricane_do_during.csv')\n",
    "hurricane_turbidity = pd.read_csv('data/Hurricane_Irene _Turbidity.csv')\n",
    "df = hurricane_do.merge(hurricane_turbidity, on = 'Date Time (ET)')\n",
    "df.head()"
   ]
  },
  {
   "cell_type": "markdown",
   "id": "e70a3f96-267d-4f9c-88fd-5e7011d0e307",
   "metadata": {},
   "source": [
    "### Step 2: Explore the data\n",
    "\n",
    "Do some initial exploratory analysis on the data. Check out what type of data you are working with, and create a few plots of your data. Do any combinations of predictor variables look very linear? Do any look exponential? Play around with different potential x and y variables. "
   ]
  },
  {
   "cell_type": "code",
   "execution_count": null,
   "id": "ec6f526e-9d22-4066-af21-a22f1482d045",
   "metadata": {},
   "outputs": [],
   "source": [
    "# Explore and Visualize data \n",
    "# ex: scatterplot, correlation matrix\n",
    "df[' Port of Albany Turbidity in NTU'].hist()\n",
    "plt.title('Histogram of Turbidity')\n",
    "plt.xlabel('Turbidity (NTU)')\n",
    "plt.ylabel('Frequency')\n",
    "plt.show()\n",
    "\n",
    "df[' Port of Albany D.O. (ppm)'].hist()\n",
    "plt.title('Histogram of Dissolved Oxygen')\n",
    "plt.xlabel('Dissolved Oxygen (ppm)')\n",
    "plt.ylabel('Frequency')\n",
    "plt.show()"
   ]
  },
  {
   "cell_type": "markdown",
   "id": "599506da-4fe1-4abd-8ec3-f69842cf93d7",
   "metadata": {},
   "source": [
    "### Step 3: Prepare the data for Machine Learning"
   ]
  },
  {
   "cell_type": "markdown",
   "id": "e7e8fa3c-a09d-4fac-ab66-4add0d6254a4",
   "metadata": {},
   "source": [
    "It is time to split our data into training and testing data for our linear regression model. Split your training and testing data where `Shucked_weight` is your predictor variable and `Whole_weight` is you response variable. "
   ]
  },
  {
   "cell_type": "markdown",
   "id": "95ce69c7",
   "metadata": {
    "deletable": false,
    "editable": false
   },
   "source": [
    "<!-- BEGIN QUESTION -->\n",
    "\n"
   ]
  },
  {
   "cell_type": "code",
   "execution_count": null,
   "id": "54d728ab-ead2-41fc-8aea-45a7859a629b",
   "metadata": {
    "tags": []
   },
   "outputs": [],
   "source": [
    "# Prepare the Data for Machine Learning \n",
    "# Preprocessing: handling missing values, feature scaling, splitting data into training/test \n",
    "# train_test_split()\n",
    "\n",
    "\n",
    "# Select features and target\n",
    "X = ...\n",
    "Y = ...\n",
    "\n",
    "\n",
    "X_train, X_test, Y_train, Y_test = ...\n",
    "    X, Y, test_size= ..."
   ]
  },
  {
   "cell_type": "code",
   "execution_count": null,
   "id": "d72e8250-05a7-4644-a59a-6ecb893d3295",
   "metadata": {
    "tags": []
   },
   "outputs": [],
   "source": [
    "X_train"
   ]
  },
  {
   "cell_type": "code",
   "execution_count": null,
   "id": "04dcbddd",
   "metadata": {
    "deletable": false,
    "editable": false
   },
   "outputs": [],
   "source": [
    "grader.check(\"q1a\")"
   ]
  },
  {
   "cell_type": "markdown",
   "id": "217f625b-c0bd-4475-b39f-168a51a48360",
   "metadata": {
    "deletable": false,
    "editable": false
   },
   "source": [
    "<!-- END QUESTION -->\n",
    "\n",
    "### Step 4: Select your model\n",
    "\n",
    "We are going to use linear regression to predict the whole weight of oysters. Why is linear regression a good model to pick to achieve this goal? Answer in the markdown cell below."
   ]
  },
  {
   "cell_type": "markdown",
   "id": "ff6a64c8-961f-4fec-a58b-36f56b2ba623",
   "metadata": {},
   "source": [
    "*Your answer here*."
   ]
  },
  {
   "cell_type": "code",
   "execution_count": null,
   "id": "185639e3-9147-4aec-ad24-51975747be11",
   "metadata": {},
   "outputs": [],
   "source": [
    "# Select and Train Model\n",
    "# Import and create regression model using LinearRegression() from scikit-learn\n",
    "# Train the model on training data with .fit()\n",
    "\n",
    "# Initialize and train the model\n",
    "model = LinearRegression()\n",
    "model.fit(X_train, Y_train)"
   ]
  },
  {
   "cell_type": "markdown",
   "id": "c81a4229-21e3-452a-bfd4-90f7570623e3",
   "metadata": {},
   "source": [
    "### Step 5: Evaluate the model\n",
    "\n",
    "- Make predictions with your model and check the performance of the model after.\n",
    "- Check how your model perfromed by look at the mean squared error and the $R^2$ score.\n",
    "- Create a scatter plot of the Y predictions and your Y test data. "
   ]
  },
  {
   "cell_type": "code",
   "execution_count": null,
   "id": "b7493853-80bf-428f-b41f-01f731592c25",
   "metadata": {},
   "outputs": [],
   "source": [
    "#Evaluate the Model \n",
    "#Predict target variable on the test set and calculate evaluation metrics using scikit-learn's mean_squared_error adn r2_score\n",
    "#Visualize predictions vs. actual values\n",
    "\n",
    "from sklearn.metrics import mean_squared_error, r2_score\n",
    "\n",
    "# Make predictions\n",
    "Y_pred = model.predict(X_test)\n",
    "\n",
    "# Evaluate the model\n",
    "mse = mean_squared_error(Y_test, Y_pred)\n",
    "r2 = r2_score(Y_test, Y_pred)\n",
    "\n",
    "print(f\"Mean Squared Error: {mse}\")\n",
    "print(f\"R² Score: {r2}\")\n",
    "\n",
    "# Plot predictions vs actual\n",
    "plt.scatter(Y_test, Y_pred)\n",
    "plt.xlabel('Actual')\n",
    "plt.ylabel('Predicted')\n",
    "plt.title('Actual vs Predicted')\n",
    "plt.show()\n"
   ]
  },
  {
   "cell_type": "markdown",
   "id": "b283a557-24d3-492f-ad2a-57a178f043e1",
   "metadata": {},
   "source": [
    "### Step 6: Fine tune the model\n",
    "\n",
    "Get the cross validation score to see how your model performed across the different folds. In the markdown cell below, explain what cross valiadtion is and what the cross validation score represents. "
   ]
  },
  {
   "cell_type": "markdown",
   "id": "74273f4b-61c6-45d8-a2f3-ec11ac439ce4",
   "metadata": {},
   "source": [
    "*Type your answer here.*"
   ]
  },
  {
   "cell_type": "code",
   "execution_count": null,
   "id": "ff598e3e-e564-4518-8363-238e2091b7b3",
   "metadata": {},
   "outputs": [],
   "source": [
    "#Fine-tune the Model \n",
    "#Use cross_val_score() to fine-tune the model\n",
    "\n",
    "from sklearn.model_selection import cross_val_score\n",
    "\n",
    "# Perform cross-validation\n",
    "scores = cross_val_score(model, X_train, Y_train, cv=5, scoring='neg_mean_squared_error')\n",
    "print(f\"Cross-validation scores: {-scores}\")\n"
   ]
  },
  {
   "cell_type": "markdown",
   "id": "247399fb-9c90-48f5-a2ff-17c51c640631",
   "metadata": {},
   "source": [
    "### Step 7:  Present the Solution\n",
    "In the markdown cell below, discuss how your model performed overall. If the model performed poorly, why do you think it did so? If it performed well, why do you think it did so? What could future analysis include? "
   ]
  },
  {
   "cell_type": "markdown",
   "id": "98a8a7cd-57c9-407b-bff5-2501d49af599",
   "metadata": {},
   "source": [
    "### *Before we ran our model, we should have first looked at the data to see if there was a lienar relationship between our variables.Let's check now!*"
   ]
  },
  {
   "cell_type": "code",
   "execution_count": null,
   "id": "f4fd2efd-e5f4-4f0d-880d-ae4d806a061f",
   "metadata": {},
   "outputs": [],
   "source": [
    "plt.figure(figsize=(10, 6))  # Setting the figure size for better visibility\n",
    "df.plot.scatter(x=' Port of Albany D.O. (ppm)', y=' Port of Albany Turbidity in NTU', c='DarkBlue')\n",
    "\n",
    "plt.title('Scatter Plot of Turbidity vs. Dissolved Oxygen at Port of Albany')\n",
    "plt.xlabel('Dissolved Oxygen (ppm)')\n",
    "plt.ylabel('Turbidity (NTU)')\n",
    "plt.grid(True)\n",
    "plt.show()"
   ]
  },
  {
   "cell_type": "markdown",
   "id": "4c915e91-d2d3-415a-894e-b4e8523511af",
   "metadata": {},
   "source": [
    "### Step 8: Check to see if polynomial regression performs better\n",
    "\n",
    "We assumed linear regression would work best with our data, but lets check to see how a polynomial regression performs in comparison. Transform the features for polynomial regression. Use the `PolynomialFeatures` library from `sklearn.preprocessing`. "
   ]
  },
  {
   "cell_type": "code",
   "execution_count": null,
   "id": "50961fc0-8274-4987-a17d-f202f832879d",
   "metadata": {},
   "outputs": [],
   "source": [
    "# Transform features for polynomial regression \n",
    "\n",
    "from sklearn.preprocessing import PolynomialFeatures\n",
    "\n",
    "# Transform features to include polynomial terms (degree 2 for quadratic terms)\n",
    "poly = PolynomialFeatures(degree=2)\n",
    "X_poly_train = poly.fit_transform(X_train)\n",
    "X_poly_test = poly.transform(X_test)\n",
    "\n",
    "# View the transformed feature set (for insight)\n",
    "print(X_poly_train)"
   ]
  },
  {
   "cell_type": "markdown",
   "id": "0a7264fd-ada2-4c15-aeb7-179006197f1d",
   "metadata": {},
   "source": [
    "### Step 9: Fit your model on the polynomial features"
   ]
  },
  {
   "cell_type": "code",
   "execution_count": null,
   "id": "c76b90c2-99c0-4b6f-8257-34b7665b27b1",
   "metadata": {},
   "outputs": [],
   "source": [
    "# Train the model on polynomial features \n",
    "poly_model = LinearRegression()\n",
    "poly_model.fit(X_poly_train, Y_train)"
   ]
  },
  {
   "cell_type": "markdown",
   "id": "a4208b8a-11fa-4e88-bf0c-7e5bd91d7692",
   "metadata": {},
   "source": [
    "### STEP 10: Evaluate the polynomial regression model \n",
    "- Make predictions with your model and check the performance of the model after.\n",
    "- Check how your model perfromed by look at the mean squared error and the $R^2$ score.\n",
    "- Create a scatter plot of the Y polynomial predictions and your Y test data."
   ]
  },
  {
   "cell_type": "code",
   "execution_count": null,
   "id": "05fdd437-19ff-4d8a-907b-0c227fb78f57",
   "metadata": {},
   "outputs": [],
   "source": [
    "# Evaluate the polynomial regression model\n",
    "# Make predictions using the polynomial model\n",
    "Y_poly_pred = poly_model.predict(X_poly_test)\n",
    "\n",
    "# Evaluate the polynomial model\n",
    "poly_mse = mean_squared_error(Y_test, Y_poly_pred)\n",
    "poly_r2 = r2_score(Y_test, Y_poly_pred)\n",
    "\n",
    "print(f\"Polynomial Regression Mean Squared Error: {poly_mse}\")\n",
    "print(f\"Polynomial Regression R² Score: {poly_r2}\")\n",
    "\n",
    "# Plot predictions vs actual\n",
    "plt.scatter(Y_test, Y_poly_pred)\n",
    "plt.xlabel('Actual')\n",
    "plt.ylabel('Predicted')\n",
    "plt.title('Polynomial Regression: Actual vs Predicted')\n",
    "plt.show()"
   ]
  },
  {
   "cell_type": "markdown",
   "id": "29dd9bb7-ffbc-429e-bbf4-74f1e7c4e928",
   "metadata": {},
   "source": [
    "### Step 11: Compare your polynomial and linear regression results\n",
    "\n",
    "What differences did you notice between you polynomial regression and linear regression results? Which model performed better? Why do you think this is? Write your answer in the markdown cell below. "
   ]
  },
  {
   "cell_type": "markdown",
   "id": "cd04eb66-9b73-4ce5-9b2a-b5ad0f50b64e",
   "metadata": {},
   "source": [
    "*Your answer here.*"
   ]
  },
  {
   "cell_type": "markdown",
   "id": "bc28e3e5-d6c7-40af-92e2-dfb62883ec9a",
   "metadata": {},
   "source": [
    "Notes: \n"
   ]
  },
  {
   "cell_type": "markdown",
   "id": "b438ee84-b0b9-4e0e-86d6-b22614ad77b9",
   "metadata": {},
   "source": [
    "Ideas for discussion: \n",
    "- multiple linear regression\n",
    "- interpretation excercise"
   ]
  },
  {
   "cell_type": "code",
   "execution_count": null,
   "id": "4b641fc1-f637-4374-b663-3216fee46017",
   "metadata": {},
   "outputs": [],
   "source": []
  },
  {
   "cell_type": "code",
   "execution_count": null,
   "id": "c52ec9d2-6af5-41cc-97e9-4b36c39bf98d",
   "metadata": {},
   "outputs": [],
   "source": []
  }
 ],
 "metadata": {
  "kernelspec": {
   "display_name": "Python 3 (ipykernel)",
   "language": "python",
   "name": "python3"
  },
  "language_info": {
   "codemirror_mode": {
    "name": "ipython",
    "version": 3
   },
   "file_extension": ".py",
   "mimetype": "text/x-python",
   "name": "python",
   "nbconvert_exporter": "python",
   "pygments_lexer": "ipython3",
   "version": "3.12.6"
  }
 },
 "nbformat": 4,
 "nbformat_minor": 5
}
