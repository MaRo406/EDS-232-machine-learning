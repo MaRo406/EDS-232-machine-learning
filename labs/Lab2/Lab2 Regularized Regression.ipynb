{
 "cells": [
  {
   "cell_type": "markdown",
   "id": "16c0708e-dea9-4b21-966c-299bb273e08e",
   "metadata": {},
   "source": [
    "# EDS232 Lab 2: Regularized Regression\n",
    "\n",
    "\n",
    "## Overview\n",
    "In this lab, you will explore Ridge Regression and Lasso Regression, two common techniques for regularized regression. Both methods add penalties to the regression coefficients, which can help prevent overfitting and improve model interpretability. We will also apply the one-standard-error rule for Lasso regression to select a simpler model.\n",
    "\n",
    "## Objectives\n",
    "By the end of this lab, you will:\n",
    "- Implement Ridge and Lasso regression with cross-validation.\n",
    "- Compare the performance of Ridge and Lasso models.\n",
    "- Interpret model coefficients and understand their regularization effects.\n",
    "- Apply the one-standard-error rule to select a parsimonious Lasso model.\n",
    "\n",
    "## Key Concepts\n",
    "\n",
    "**What is Regularized Regression?**\n",
    "- Regularized regression techniques are used to improve model generalization and prevent overfitting by adding a penalty term to the loss function of linear regression.\n",
    "- These methods are particularly useful for datasets with:\n",
    "    - A large number of predictors.\n",
    "    - High multicollinearity among predictors.\n",
    "    - A tendency to overfit due to a small number of observations.\n",
    "\n",
    "**Types of Regularization:**\n",
    "\n",
    "- Ridge Regression:\n",
    "\n",
    "    - Adds an L2 penalty ($\\lambda \\sum_{j=1}^p \\beta_j^2 $) to the regression loss function.\n",
    "    - Shrinks coefficients toward zero but does not set any coefficients exactly to zero.\n",
    "    - Best suited for reducing multicollinearity and improving model stability.\n",
    "\n",
    "- Lasso Regression:\n",
    "\n",
    "    - Adds an L1 penalty ($\\lambda \\sum_{j=1}^p |\\beta_j|$) to the regression loss function.\n",
    "    - Can shrink some coefficients to exactly zero, effectively performing feature selection.\n",
    "    - Useful when you want a simpler, interpretable model.\n"
   ]
  },
  {
   "cell_type": "code",
   "execution_count": 54,
   "id": "e20e094f-1659-4499-9e9b-9e91eed997bb",
   "metadata": {},
   "outputs": [
    {
     "name": "stdout",
     "output_type": "stream",
     "text": [
      "1.5.1\n",
      "<class 'pandas.core.frame.DataFrame'>\n",
      "RangeIndex: 467861 entries, 0 to 467860\n",
      "Data columns (total 19 columns):\n",
      " #   Column                   Non-Null Count   Dtype  \n",
      "---  ------                   --------------   -----  \n",
      " 0   start_time               467861 non-null  object \n",
      " 1   end_time                 467861 non-null  object \n",
      " 2   duration                 467861 non-null  int64  \n",
      " 3   start_station_id         467861 non-null  int64  \n",
      " 4   start_station_name       467861 non-null  object \n",
      " 5   start_station_latitude   467861 non-null  float64\n",
      " 6   start_station_longitude  467861 non-null  float64\n",
      " 7   end_station_id           467861 non-null  int64  \n",
      " 8   end_station_name         467861 non-null  object \n",
      " 9   end_station_latitude     467861 non-null  float64\n",
      " 10  end_station_longitude    467861 non-null  float64\n",
      " 11  precipitation            467861 non-null  float64\n",
      " 12  temperature              467861 non-null  float64\n",
      " 13  wind_speed               467861 non-null  float64\n",
      " 14  weather                  467861 non-null  int64  \n",
      " 15  sunshine                 467861 non-null  int64  \n",
      " 16  season                   467861 non-null  int64  \n",
      " 17  is_holiday               467861 non-null  bool   \n",
      " 18  is_weekend               467861 non-null  bool   \n",
      "dtypes: bool(2), float64(7), int64(6), object(4)\n",
      "memory usage: 61.6+ MB\n",
      "None\n",
      "            start_time             end_time  duration  start_station_id  \\\n",
      "0  2023-01-01 04:00:00  2023-01-01 04:00:00       629               150   \n",
      "1  2023-01-01 04:00:00  2023-01-01 04:00:00       107              1894   \n",
      "2  2023-01-01 04:00:00  2023-01-01 04:00:00       643              1894   \n",
      "3  2023-01-01 05:00:00  2023-01-01 05:00:00       227               797   \n",
      "4  2023-01-01 05:00:00  2023-01-01 06:00:00       254                22   \n",
      "\n",
      "  start_station_name  start_station_latitude  start_station_longitude  \\\n",
      "0             Torget               60.395878                 5.325284   \n",
      "1   Kong Oscars gate               60.393323                 5.330654   \n",
      "2   Kong Oscars gate               60.393323                 5.330654   \n",
      "3   John Lunds plass               60.388247                 5.324558   \n",
      "4            Skur 11               60.396384                 5.324169   \n",
      "\n",
      "   end_station_id     end_station_name  end_station_latitude  \\\n",
      "0            1896  Takhagen på Nordnes             60.398865   \n",
      "1            1894     Kong Oscars gate             60.393323   \n",
      "2             809      Skutevikstorget             60.402229   \n",
      "3              22              Skur 11             60.396384   \n",
      "4             812     Hans Hauges gate             60.401906   \n",
      "\n",
      "   end_station_longitude  precipitation  temperature  wind_speed  weather  \\\n",
      "0               5.306411            0.0         -1.8         1.7        1   \n",
      "1               5.330654            0.0         -1.8         1.7        1   \n",
      "2               5.320745            0.0         -1.8         1.7        1   \n",
      "3               5.324169            0.0         -1.9         4.3        1   \n",
      "4               5.324748            0.0         -1.9         4.3        1   \n",
      "\n",
      "   sunshine  season  is_holiday  is_weekend  \n",
      "0         0       3        True        True  \n",
      "1         0       3        True        True  \n",
      "2         0       3        True        True  \n",
      "3         0       3        True        True  \n",
      "4         0       3        True        True  \n"
     ]
    }
   ],
   "source": [
    "import pandas as pd\n",
    "import numpy as np\n",
    "from sklearn import linear_model\n",
    "from sklearn.model_selection import train_test_split\n",
    "from sklearn.linear_model import Ridge, Lasso\n",
    "from sklearn.linear_model import RidgeCV\n",
    "from sklearn.model_selection import cross_val_score\n",
    "import matplotlib.pyplot as plt\n",
    "import seaborn as sns\n",
    "\n",
    "print(sklearn.__version__)\n",
    "\n",
    "# Load the data\n",
    "#url = \"https://raw.githubusercontent.com/MaRo406/eds-232-machine-learning/main/data/abalone-data.csv\"\n",
    "#abdat = pd.read_csv(url)\n",
    "\n",
    "# Load the dataset\n",
    "df = pd.read_csv('../../data/bergen_merged.csv')\n",
    "df"
   ]
  },
  {
   "cell_type": "code",
   "execution_count": null,
   "id": "7399527c-ef6f-418c-92fb-e982e47cfd93",
   "metadata": {},
   "outputs": [],
   "source": [
    "# Explore the data (correlation matrices, scatterplots, distribution plots etc.)\n",
    "print(df.info())\n",
    "print(df.head())"
   ]
  },
  {
   "cell_type": "code",
   "execution_count": null,
   "id": "ea5546ba-9ae4-482c-8f14-3ec49c2b0f09",
   "metadata": {},
   "outputs": [],
   "source": [
    "corr_matrix = df.corr(numeric_only=True)\n",
    "#print(corr_matrix)\n",
    "\n",
    "#visualize relationships\n",
    "plt.figure(figsize=(10, 8))\n",
    "sns.heatmap(corr_matrix, annot=True, cmap=\"coolwarm\")\n",
    "plt.show()"
   ]
  },
  {
   "cell_type": "markdown",
   "id": "80513693-2b69-4f40-9281-9a6d0845f541",
   "metadata": {},
   "source": [
    "Data Splitting\n",
    "Question 1: Split the data into training and test sets using a 70/30 split."
   ]
  },
  {
   "cell_type": "code",
   "execution_count": 17,
   "id": "dbd180af-9230-4afa-ab37-72338863b977",
   "metadata": {},
   "outputs": [
    {
     "name": "stdout",
     "output_type": "stream",
     "text": [
      "Shape of X: (327502, 82)\n"
     ]
    }
   ],
   "source": [
    "# Define predictors and outcome\n",
    "X = df[['temperature', 'precipitation', 'wind_speed', 'weather', 'sunshine', 'season','is_holiday', 'is_weekend']]\n",
    "X = pd.get_dummies(X, columns=['weather', 'sunshine', 'season','is_holiday', 'is_weekend'], drop_first=True)\n",
    "Y = df[[\"duration\"]]\n",
    "\n",
    "# Split the data\n",
    "X_train, X_test, y_train, y_test = train_test_split(X, Y, test_size=0.3, random_state=42)\n",
    "\n",
    "print(\"Shape of X:\", X_train.shape)"
   ]
  },
  {
   "cell_type": "markdown",
   "id": "5a545998-596f-4021-83a9-71010807a5dc",
   "metadata": {},
   "source": [
    "Ridge Regression\n",
    "Question 2: Fit a ridge regression model"
   ]
  },
  {
   "cell_type": "code",
   "execution_count": null,
   "id": "b3a19447-a9d5-49dd-8fe3-73e6763b231f",
   "metadata": {},
   "outputs": [],
   "source": [
    "Data Preprocessing\n",
    "from sklearn.preprocessing import StandardScaler\n",
    "#from sklearn.linear_model import RidgeCV\n",
    "\n",
    "# Standardize the predictors\n",
    "scaler = StandardScaler()\n",
    "X_train_scaled = scaler.fit_transform(X_train)\n",
    "X_test_scaled = scaler.transform(X_test)"
   ]
  },
  {
   "cell_type": "code",
   "execution_count": null,
   "id": "3f15a0a1-510e-4c63-92b9-62249708bbc6",
   "metadata": {},
   "outputs": [
    {
     "data": {
      "text/plain": [
       "array([[ 40.69919791,  -4.65831122, -10.10020238,  -1.8900162 ,\n",
       "         -0.20794251,  -1.89946923,  -0.70708406,  -2.22443533,\n",
       "         -4.12061049,   0.93084335,   0.93381848,   5.11871675,\n",
       "         -1.28078671,  -1.08849606,  -1.07229295,  -1.48632492,\n",
       "          0.44819172,   5.11830221,   4.03773178,   2.66021561,\n",
       "          1.97735253,   2.56876837,   0.45906373,   6.57237559,\n",
       "          1.23253124,   0.92425644,   0.7956925 ,   2.98623303,\n",
       "          1.84417647,   3.01691875,  -0.15185296,   7.24471465,\n",
       "          0.97812037,   0.47921895,   2.04562462,  -0.10891166,\n",
       "          0.16162642,   0.12148126,  -1.05500004,   3.4880253 ,\n",
       "          2.21610112,   5.3313536 ,   4.25301791,   2.86319045,\n",
       "          1.0659818 ,  -0.16169125,   4.21841392,   3.352633  ,\n",
       "          0.74529283,   1.91309098,   5.93845081,   0.53725552,\n",
       "          4.24633772,   0.5327931 ,   4.67594356,   3.70661431,\n",
       "          1.27280184,   2.56724507,   7.05679025,   0.47194583,\n",
       "          2.72273123,   6.29104841,   3.3261244 ,   4.40574169,\n",
       "          1.64581555,   2.69532676,   2.99524797,   3.94107162,\n",
       "          3.65715643,   1.65952961,   7.01957449,   5.88559883,\n",
       "          2.23409699,   6.80221601,   7.84913454,   3.48167415,\n",
       "         36.83843157,   1.96622151, -11.37056731,  -7.1484896 ,\n",
       "         19.55669568,  54.69611329]])"
      ]
     },
     "execution_count": 16,
     "metadata": {},
     "output_type": "execute_result"
    }
   ],
   "source": [
    "#Ridge regression with initial alpha parameter value\n",
    "reg = linear_model.Ridge()\n",
    "reg.fit(X_train_scaled, y_train)\n",
    "reg.coef_"
   ]
  },
  {
   "cell_type": "markdown",
   "id": "97e84ec0-2115-4321-8a6c-ce93a7df4ee9",
   "metadata": {},
   "source": [
    "Question 3: Use cross validation to explore effect of lambda on coefficients"
   ]
  },
  {
   "cell_type": "code",
   "execution_count": 65,
   "id": "2e52ed71-4f82-438e-9c9e-a59e11de828f",
   "metadata": {
    "scrolled": true
   },
   "outputs": [
    {
     "name": "stdout",
     "output_type": "stream",
     "text": [
      "[1.00000000e-04 7.74263683e-04 5.99484250e-03 4.64158883e-02\n",
      " 3.59381366e-01 2.78255940e+00 2.15443469e+01 1.66810054e+02\n",
      " 1.29154967e+03 1.00000000e+04]\n"
     ]
    }
   ],
   "source": [
    "# Cross validation on ridge regression to optimize alpha\n",
    "\n",
    "# logspace method returns an evenly spaced (log) set of values to try for alpha\n",
    "alphas = np.logspace(-4, 4, 10) # reduced alphas even further for run time for time being\n",
    "print(alphas)"
   ]
  },
  {
   "cell_type": "code",
   "execution_count": null,
   "id": "f84f4967-e60c-44e0-b308-1fe38257139c",
   "metadata": {
    "scrolled": true
   },
   "outputs": [
    {
     "data": {
      "text/plain": [
       "1291.5496650148827"
      ]
     },
     "execution_count": 64,
     "metadata": {},
     "output_type": "execute_result"
    }
   ],
   "source": [
    "ridge = RidgeCV(alphas=alphas, store_cv_results=True) # removing cv = 5.  Yep, OK to use default cvs here\n",
    "\n",
    "ridge.fit(X_train_scaled, y_train)\n",
    "\n",
    "ridge.alpha_"
   ]
  },
  {
   "cell_type": "code",
   "execution_count": 67,
   "id": "16a380f3-8935-47aa-b505-6410ea4048a8",
   "metadata": {},
   "outputs": [
    {
     "name": "stdout",
     "output_type": "stream",
     "text": [
      "[array([[ 40.69927579,  -4.65830961, -10.10024182,  -1.89003715,\n",
      "         -0.2079402 ,  -1.89943124,  -0.70705761,  -2.2244386 ,\n",
      "         -4.12058046,   0.93085736,   0.93383394,   5.11873484,\n",
      "         -1.28078312,  -1.08850104,  -1.07228989,  -1.48630404,\n",
      "          0.44820656,   5.11832027,   4.03774743,   2.66022678,\n",
      "          1.97736077,   2.56877647,   0.45907289,   6.57239217,\n",
      "          1.23253815,   0.92426431,   0.79570095,   2.98624551,\n",
      "          1.84418706,   3.01692839,  -0.15184534,   7.24473043,\n",
      "          0.9781322 ,   0.47922961,   2.04563673,  -0.1089097 ,\n",
      "          0.16163124,   0.12149136,  -1.0549973 ,   3.48803796,\n",
      "          2.21610775,   5.33136453,   4.25303166,   2.86320278,\n",
      "          1.06598723,  -0.16168487,   4.2184254 ,   3.35264329,\n",
      "          0.74529913,   1.91309996,   5.93846418,   0.53725832,\n",
      "          4.24635169,   0.532798  ,   4.67596321,   3.70662174,\n",
      "          1.27280834,   2.56725537,   7.05680875,   0.47195342,\n",
      "          2.72273914,   6.29106097,   3.32613357,   4.40575272,\n",
      "          1.64582314,   2.6953406 ,   2.99526305,   3.94108273,\n",
      "          3.65716768,   1.65953736,   7.01959313,   5.88561405,\n",
      "          2.23410797,   6.80223398,   7.84915406,   3.48168799,\n",
      "         36.83851753,   1.9661958 , -11.37053804,  -7.1484448 ,\n",
      "         19.55672898,  54.69618377]]), array([[ 40.69927569,  -4.65830961, -10.10024176,  -1.89003712,\n",
      "         -0.2079402 ,  -1.89943129,  -0.70705765,  -2.2244386 ,\n",
      "         -4.1205805 ,   0.93085734,   0.93383392,   5.11873481,\n",
      "         -1.28078313,  -1.08850103,  -1.07228989,  -1.48630407,\n",
      "          0.44820654,   5.11832025,   4.03774741,   2.66022677,\n",
      "          1.97736076,   2.56877646,   0.45907287,   6.57239215,\n",
      "          1.23253814,   0.9242643 ,   0.79570094,   2.98624549,\n",
      "          1.84418705,   3.01692837,  -0.15184535,   7.24473041,\n",
      "          0.97813218,   0.4792296 ,   2.04563671,  -0.1089097 ,\n",
      "          0.16163124,   0.12149135,  -1.0549973 ,   3.48803794,\n",
      "          2.21610774,   5.33136452,   4.25303164,   2.86320276,\n",
      "          1.06598722,  -0.16168488,   4.21842538,   3.35264327,\n",
      "          0.74529912,   1.91309994,   5.93846416,   0.53725832,\n",
      "          4.24635167,   0.532798  ,   4.67596319,   3.70662173,\n",
      "          1.27280833,   2.56725535,   7.05680873,   0.47195341,\n",
      "          2.72273913,   6.29106095,   3.32613356,   4.40575271,\n",
      "          1.64582313,   2.69534059,   2.99526302,   3.94108271,\n",
      "          3.65716766,   1.65953735,   7.0195931 ,   5.88561403,\n",
      "          2.23410795,   6.80223395,   7.84915403,   3.48168798,\n",
      "         36.83851742,   1.96619584, -11.37053808,  -7.14844486,\n",
      "         19.55672894,  54.69618367]]), array([[ 40.69927487,  -4.65830963, -10.10024135,  -1.8900369 ,\n",
      "         -0.20794022,  -1.89943169,  -0.70705792,  -2.22443856,\n",
      "         -4.12058082,   0.9308572 ,   0.93383376,   5.11873463,\n",
      "         -1.28078316,  -1.08850098,  -1.07228993,  -1.48630429,\n",
      "          0.44820639,   5.11832006,   4.03774725,   2.66022665,\n",
      "          1.97736068,   2.56877638,   0.45907278,   6.57239198,\n",
      "          1.23253807,   0.92426422,   0.79570085,   2.98624536,\n",
      "          1.84418694,   3.01692827,  -0.15184543,   7.24473024,\n",
      "          0.97813206,   0.47922948,   2.04563659,  -0.10890972,\n",
      "          0.16163119,   0.12149124,  -1.05499733,   3.48803781,\n",
      "          2.21610767,   5.3313644 ,   4.25303149,   2.86320263,\n",
      "          1.06598716,  -0.16168495,   4.21842526,   3.35264316,\n",
      "          0.74529906,   1.91309985,   5.93846402,   0.53725829,\n",
      "          4.24635153,   0.53279795,   4.67596298,   3.70662165,\n",
      "          1.27280827,   2.56725524,   7.05680853,   0.47195333,\n",
      "          2.72273905,   6.29106082,   3.32613347,   4.40575259,\n",
      "          1.64582305,   2.69534044,   2.99526287,   3.9410826 ,\n",
      "          3.65716755,   1.65953727,   7.01959291,   5.88561387,\n",
      "          2.23410784,   6.80223377,   7.84915383,   3.48168783,\n",
      "         36.83851652,   1.96619611, -11.37053839,  -7.14844533,\n",
      "         19.55672859,  54.69618294]]), array([[ 40.69926858,  -4.65830976, -10.10023816,  -1.89003521,\n",
      "         -0.20794041,  -1.89943476,  -0.70706006,  -2.2244383 ,\n",
      "         -4.12058324,   0.93085606,   0.93383251,   5.11873316,\n",
      "         -1.28078345,  -1.08850058,  -1.07229017,  -1.48630597,\n",
      "          0.44820519,   5.1183186 ,   4.03774598,   2.66022575,\n",
      "          1.97736001,   2.56877572,   0.45907204,   6.57239064,\n",
      "          1.23253751,   0.92426358,   0.79570017,   2.98624435,\n",
      "          1.84418608,   3.01692749,  -0.15184604,   7.24472897,\n",
      "          0.9781311 ,   0.47922862,   2.04563561,  -0.10890988,\n",
      "          0.1616308 ,   0.12149042,  -1.05499755,   3.48803679,\n",
      "          2.21610713,   5.33136352,   4.25303038,   2.86320163,\n",
      "          1.06598672,  -0.16168546,   4.21842433,   3.35264233,\n",
      "          0.74529855,   1.91309913,   5.93846294,   0.53725806,\n",
      "          4.2463504 ,   0.53279755,   4.67596139,   3.70662105,\n",
      "          1.27280774,   2.56725441,   7.05680704,   0.47195271,\n",
      "          2.72273841,   6.29105981,   3.32613272,   4.4057517 ,\n",
      "          1.64582243,   2.69533932,   2.99526165,   3.9410817 ,\n",
      "          3.65716664,   1.65953664,   7.0195914 ,   5.88561264,\n",
      "          2.23410695,   6.80223231,   7.84915225,   3.48168671,\n",
      "         36.83850957,   1.96619819, -11.37054075,  -7.14844895,\n",
      "         19.5567259 ,  54.69617724]]), array([[ 40.69921982,  -4.65831077, -10.10021347,  -1.8900221 ,\n",
      "         -0.20794186,  -1.89945855,  -0.70707662,  -2.22443625,\n",
      "         -4.12060205,   0.93084729,   0.93382283,   5.11872184,\n",
      "         -1.2807857 ,  -1.08849746,  -1.07229209,  -1.48631905,\n",
      "          0.4481959 ,   5.11830729,   4.03773619,   2.66021875,\n",
      "          1.97735485,   2.56877065,   0.45906631,   6.57238026,\n",
      "          1.23253318,   0.92425865,   0.79569488,   2.98623654,\n",
      "          1.84417945,   3.01692146,  -0.15185081,   7.24471909,\n",
      "          0.97812369,   0.47922195,   2.04562803,  -0.10891111,\n",
      "          0.16162778,   0.1214841 ,  -1.05499927,   3.48802886,\n",
      "          2.21610298,   5.33135667,   4.25302178,   2.86319392,\n",
      "          1.06598333,  -0.16168946,   4.21841715,   3.3526359 ,\n",
      "          0.7452946 ,   1.91309351,   5.93845457,   0.53725631,\n",
      "          4.24634165,   0.53279448,   4.67594909,   3.7066164 ,\n",
      "          1.27280367,   2.56724797,   7.05679545,   0.47194796,\n",
      "          2.72273346,   6.29105194,   3.32612698,   4.40574479,\n",
      "          1.64581768,   2.69533065,   2.99525221,   3.94107475,\n",
      "          3.6571596 ,   1.65953179,   7.01957973,   5.88560311,\n",
      "          2.23410008,   6.80222106,   7.84914003,   3.48167805,\n",
      "         36.83845575,   1.96621428, -11.37055908,  -7.148477  ,\n",
      "         19.55670505,  54.69613312]]), array([[ 40.69884233,  -4.65831858, -10.10002232,  -1.88992057,\n",
      "         -0.20795309,  -1.89964269,  -0.70720484,  -2.22442037,\n",
      "         -4.12074761,   0.93077936,   0.93374791,   5.11863415,\n",
      "         -1.28080308,  -1.08847334,  -1.0723069 ,  -1.48642025,\n",
      "          0.44812395,   5.11821974,   4.03766032,   2.66016458,\n",
      "          1.97731489,   2.56873136,   0.45902193,   6.5722999 ,\n",
      "          1.23249972,   0.92422048,   0.79565393,   2.98617603,\n",
      "          1.84412814,   3.01687476,  -0.15188773,   7.24464258,\n",
      "          0.97806635,   0.47917025,   2.04556934,  -0.10892062,\n",
      "          0.16160442,   0.12143512,  -1.05501258,   3.48796749,\n",
      "          2.21607084,   5.33130368,   4.25295514,   2.86313415,\n",
      "          1.06595705,  -0.16172039,   4.21836152,   3.35258606,\n",
      "          0.74526404,   1.91304999,   5.93838979,   0.53724275,\n",
      "          4.24627392,   0.5327707 ,   4.67585384,   3.70658041,\n",
      "          1.27277213,   2.56719807,   7.05670577,   0.47191116,\n",
      "          2.72269512,   6.29099107,   3.32608254,   4.40569132,\n",
      "          1.64578088,   2.69526352,   2.99517911,   3.94102094,\n",
      "          3.65710509,   1.65949419,   7.01948937,   5.88552937,\n",
      "          2.2340469 ,   6.80213396,   7.84904544,   3.48161095,\n",
      "         36.83803908,   1.9663389 , -11.37070096,  -7.14869416,\n",
      "         19.55654364,  54.69579151]]), array([[ 40.69592002,  -4.65837911, -10.09854262,  -1.88913433,\n",
      "         -0.20803963,  -1.90106767,  -0.70819709,  -2.22429738,\n",
      "         -4.12187413,   0.93025356,   0.93316798,   5.11795537,\n",
      "         -1.28093753,  -1.08828651,  -1.07242152,  -1.48720344,\n",
      "          0.44756709,   5.11754198,   4.03707306,   2.65974529,\n",
      "          1.97700558,   2.56842726,   0.45867838,   6.57167778,\n",
      "          1.23224065,   0.923925  ,   0.79533693,   2.98570763,\n",
      "          1.84373093,   3.01651323,  -0.15217353,   7.24405026,\n",
      "          0.97762252,   0.47877009,   2.045115  ,  -0.10899419,\n",
      "          0.16142358,   0.12105604,  -1.05511559,   3.48749241,\n",
      "          2.21582207,   5.33089341,   4.25243925,   2.86267154,\n",
      "          1.06575361,  -0.16195983,   4.21793089,   3.35220027,\n",
      "          0.74502749,   1.91271318,   5.93788828,   0.53713776,\n",
      "          4.24574962,   0.53258662,   4.67511647,   3.70630178,\n",
      "          1.27252798,   2.5668118 ,   7.05601151,   0.47162629,\n",
      "          2.72239837,   6.29051986,   3.32573849,   4.40527736,\n",
      "          1.64549597,   2.69474389,   2.9946133 ,   3.9406044 ,\n",
      "          3.65668313,   1.65920316,   7.01878982,   5.88495851,\n",
      "          2.23363521,   6.80145966,   7.84831313,   3.48109154,\n",
      "         36.8348137 ,   1.96730367, -11.37179903,  -7.150375  ,\n",
      "         19.55529401,  54.69314668]]), array([[ 40.67331998,  -4.6588493 , -10.0871069 ,  -1.88303929,\n",
      "         -0.20868717,  -1.91205224,  -0.71585148,  -2.22334297,\n",
      "         -4.13056317,   0.92619359,   0.92868857,   5.11270816,\n",
      "         -1.28197135,  -1.0868391 ,  -1.07330481,  -1.4932454 ,\n",
      "          0.4432665 ,   5.11230069,   4.03253251,   2.65650396,\n",
      "          1.9746145 ,   2.56607642,   0.45602275,   6.56686661,\n",
      "          1.2302383 ,   0.92164121,   0.79288773,   2.98208615,\n",
      "          1.84065936,   3.01371733,  -0.15438168,   7.23946846,\n",
      "          0.97419416,   0.47567785,   2.04160311,  -0.10956213,\n",
      "          0.16002631,   0.11812859,  -1.05591037,   3.48381873,\n",
      "          2.21389889,   5.32771986,   4.24845027,   2.85909541,\n",
      "          1.06418215,  -0.16380927,   4.21460136,   3.34921763,\n",
      "          0.7431988 ,   1.91010942,   5.93401019,   0.53632602,\n",
      "          4.24169573,   0.53116486,   4.66941552,   3.70414642,\n",
      "          1.27064136,   2.56382611,   7.05064306,   0.46942532,\n",
      "          2.72010461,   6.28687602,   3.32307976,   4.40207688,\n",
      "          1.64329301,   2.69072741,   2.99023972,   3.93738467,\n",
      "          3.65342091,   1.65695437,   7.01338058,   5.88054496,\n",
      "          2.2304536 ,   6.79624631,   7.84265016,   3.4770772 ,\n",
      "         36.80988759,   1.97476536, -11.38027228,  -7.16335754,\n",
      "         19.54562646,  54.67267395]]), array([[ 40.49990473,  -4.66257599,  -9.99980309,  -1.83542757,\n",
      "         -0.21240616,  -1.99428163,  -0.77347205,  -2.21583181,\n",
      "         -4.19590638,   0.89540546,   0.89463403,   5.07257038,\n",
      "         -1.28955874,  -1.0755828 ,  -1.079902  ,  -1.53874126,\n",
      "          0.41061249,   5.07209759,   3.99775809,   2.6317078 ,\n",
      "          1.95632389,   2.54809462,   0.43571654,   6.52994995,\n",
      "          1.2149405 ,   0.90419631,   0.77422797,   2.95435026,\n",
      "          1.81710809,   2.99226321,  -0.17120537,   7.20424838,\n",
      "          0.94812222,   0.45209427,   2.01475919,  -0.11385903,\n",
      "          0.14937644,   0.09591118,  -1.06190211,   3.455653  ,\n",
      "          2.1991856 ,   5.30332897,   4.21787893,   2.83174577,\n",
      "          1.05223172,  -0.1778654 ,   4.18909882,   3.32638498,\n",
      "          0.72920788,   1.89019155,   5.9042719 ,   0.53010581,\n",
      "          4.21063843,   0.52036245,   4.62575905,   3.68757571,\n",
      "          1.25625389,   2.54100563,   7.00948904,   0.45265811,\n",
      "          2.70257571,   6.25893638,   3.30279442,   4.37757086,\n",
      "          1.62641071,   2.66003381,   2.95680787,   3.91276909,\n",
      "          3.62844987,   1.63980824,   6.97191723,   5.84674925,\n",
      "          2.20616919,   6.75632072,   7.79921674,   3.44642298,\n",
      "         36.61963803,   2.03205376, -11.44419084,  -7.26200781,\n",
      "         19.4712441 ,  54.51448255]]), array([[ 3.92454138e+01, -4.69444441e+00, -9.38938436e+00,\n",
      "        -1.45259457e+00, -1.83301052e-01, -2.49489263e+00,\n",
      "        -1.13942908e+00, -2.15261078e+00, -4.60613759e+00,\n",
      "         6.89116335e-01,  6.62868585e-01,  4.78707352e+00,\n",
      "        -1.32825410e+00, -9.87250496e-01, -1.11891636e+00,\n",
      "        -1.82800361e+00,  1.90472644e-01,  4.78160075e+00,\n",
      "         3.74926182e+00,  2.45590451e+00,  1.82662530e+00,\n",
      "         2.42065210e+00,  2.92316613e-01,  6.26223743e+00,\n",
      "         1.10737266e+00,  7.81827964e-01,  6.45669441e-01,\n",
      "         2.75602397e+00,  1.64745718e+00,  2.83680280e+00,\n",
      "        -2.87011853e-01,  6.94567408e+00,  7.70587061e-01,\n",
      "         2.88656821e-01,  1.82546364e+00, -1.41862812e-01,\n",
      "         7.59201593e-02, -5.30103582e-02, -1.10001733e+00,\n",
      "         3.25280075e+00,  2.09472782e+00,  5.12434344e+00,\n",
      "         3.99807038e+00,  2.63806706e+00,  9.70982003e-01,\n",
      "        -2.72810513e-01,  4.00646335e+00,  3.16357091e+00,\n",
      "         6.29933297e-01,  1.74894968e+00,  5.68953799e+00,\n",
      "         4.85475520e-01,  3.98787528e+00,  4.47525081e-01,\n",
      "         4.31397733e+00,  3.56575764e+00,  1.15640736e+00,\n",
      "         2.38014132e+00,  6.71310104e+00,  3.37300571e-01,\n",
      "         2.57896870e+00,  6.05706237e+00,  3.16141361e+00,\n",
      "         4.20245538e+00,  1.50522054e+00,  2.44402247e+00,\n",
      "         2.72093389e+00,  3.73869139e+00,  3.45034886e+00,\n",
      "         1.52101248e+00,  6.67338082e+00,  5.60505781e+00,\n",
      "         2.03657971e+00,  6.47041997e+00,  7.48517722e+00,\n",
      "         3.23154372e+00,  3.52864600e+01,  2.44826037e+00,\n",
      "        -1.18506880e+01, -7.92575355e+00,  1.89217409e+01,\n",
      "         5.33105962e+01]])]\n"
     ]
    }
   ],
   "source": [
    "#Fit a model for each value of alpha and extract the coefficients\n",
    "coefs = []\n",
    "for a in alphas:\n",
    "    ridge = linear_model.Ridge(alpha=a, fit_intercept=False)\n",
    "    ridge.fit(X_train_scaled, y_train)\n",
    "    coefs.append(ridge.coef_)\n",
    "\n",
    "#print(coefs)"
   ]
  },
  {
   "cell_type": "code",
   "execution_count": 70,
   "id": "834b1c8d-3da7-4430-a130-e89bfb987e93",
   "metadata": {},
   "outputs": [
    {
     "data": {
      "text/plain": [
       "(10, 82)"
      ]
     },
     "execution_count": 70,
     "metadata": {},
     "output_type": "execute_result"
    }
   ],
   "source": [
    "#Reshape coefs to correct dimentions for plotting\n",
    "coefs = np.array(coefs)\n",
    "coefs = coefs.reshape(10, -1)\n",
    "coefs.shape"
   ]
  },
  {
   "cell_type": "code",
   "execution_count": 71,
   "id": "6a28a9e6-e7f1-487d-a2f2-55c19c56ff6b",
   "metadata": {},
   "outputs": [
    {
     "data": {
      "image/png": "[encoded data removed]",
      "text/plain": [
       "<Figure size 432x288 with 1 Axes>"
      ]
     },
     "metadata": {
      "needs_background": "light"
     },
     "output_type": "display_data"
    }
   ],
   "source": [
    "#Plot coefficient values versus alpha values\n",
    "\n",
    "ax = plt.gca()\n",
    "ax.plot(alphas, coefs)\n",
    "ax.set_xscale(\"log\")\n",
    "ax.set_xlim(ax.get_xlim()[::-1])  # reverse axis\n",
    "plt.xlabel(\"alpha\")\n",
    "plt.ylabel(\"weights\")\n",
    "plt.title(\"Ridge coefficients as a function of the regularization\")\n",
    "plt.axis(\"tight\")\n",
    "plt.show()"
   ]
  },
  {
   "cell_type": "markdown",
   "id": "4ddbc94d-3d44-4936-b0ce-07df4cce3f5e",
   "metadata": {},
   "source": [
    "Interpretation of coefficient-alpha plot"
   ]
  },
  {
   "cell_type": "markdown",
   "id": "ae2d8b18-e8ed-4b95-8cd3-afc3dc83f456",
   "metadata": {},
   "source": [
    "Lasso Regression and Cross Validation\n",
    "Question 4 & 5: Fit lasso regression using LassoCV and interpret the results."
   ]
  },
  {
   "cell_type": "code",
   "execution_count": 5,
   "id": "1877d00d-82d4-47a7-80c0-5bc3e25d0015",
   "metadata": {},
   "outputs": [
    {
     "data": {
      "text/plain": [
       "(327502, 82)"
      ]
     },
     "execution_count": 5,
     "metadata": {},
     "output_type": "execute_result"
    }
   ],
   "source": [
    "X_train_scaled.shape"
   ]
  },
  {
   "cell_type": "code",
   "execution_count": 6,
   "id": "a61aa8fe-4f76-4430-a38d-9e136da83faa",
   "metadata": {},
   "outputs": [
    {
     "data": {
      "text/plain": [
       "array([532, 339, 293, ..., 899, 758, 737])"
      ]
     },
     "execution_count": 6,
     "metadata": {},
     "output_type": "execute_result"
    }
   ],
   "source": [
    "y_train.values.ravel()"
   ]
  },
  {
   "cell_type": "code",
   "execution_count": 7,
   "id": "447a5a2e-1995-4f8c-9d5d-10f72c1d2f45",
   "metadata": {},
   "outputs": [
    {
     "data": {
      "image/png": "[encoded data removed]",
      "text/plain": [
       "<Figure size 1000x600 with 1 Axes>"
      ]
     },
     "metadata": {},
     "output_type": "display_data"
    }
   ],
   "source": [
    "from sklearn.linear_model import LassoCV\n",
    "\n",
    "# Lasso regression with cross-validation\n",
    "lasso = LassoCV(alphas=alphas, cv=10, random_state=42)\n",
    "lasso.fit(X_train_scaled,y_train.values.ravel()) # included .ravel to make 1D to avoid warning message \n",
    "\n",
    "# Plot Lasso results\n",
    "plt.figure(figsize=(10, 6))\n",
    "plt.plot(np.log10(lasso.alphas_), lasso.mse_path_.mean(axis=1), label=\"CV Error\")\n",
    "plt.xlabel(\"Log(Lambda)\")\n",
    "plt.ylabel(\"Cross-Validated MSE\")\n",
    "plt.title(\"Lasso Regression CV Results\")\n",
    "plt.legend()\n",
    "plt.show()\n"
   ]
  },
  {
   "cell_type": "markdown",
   "id": "cca2faec-865f-471c-a347-f577bc550253",
   "metadata": {},
   "source": [
    "Tuning and Model Comparison\n",
    "Question 6 & 7: Find the minimum MSE and associated lambda for both Ridge and Lasso"
   ]
  },
  {
   "cell_type": "code",
   "execution_count": 8,
   "id": "64f7bd47-630e-48b2-9f06-d1e4234f19e5",
   "metadata": {},
   "outputs": [
    {
     "name": "stdout",
     "output_type": "stream",
     "text": [
      "Ridge - Minimum MSE: 6.923191589187694e-10, Best Alpha: 4714.8663634573895\n",
      "Lasso - Minimum MSE: 340351.2246354942, Best Alpha: 0.18420699693267145\n"
     ]
    }
   ],
   "source": [
    "# Ridge results\n",
    "ridge_min_mse = ridge.cv_results_.min() # changing cv_values_ to cv_results\n",
    "ridge_best_alpha = ridge.alpha_\n",
    "\n",
    "# Lasso results\n",
    "lasso_min_mse = lasso.mse_path_.min()\n",
    "lasso_best_alpha = lasso.alpha_\n",
    "\n",
    "print(f\"Ridge - Minimum MSE: {ridge_min_mse}, Best Alpha: {ridge_best_alpha}\")\n",
    "print(f\"Lasso - Minimum MSE: {lasso_min_mse}, Best Alpha: {lasso_best_alpha}\")\n"
   ]
  },
  {
   "cell_type": "markdown",
   "id": "9a4691e6-47ae-44ca-8446-9d950c1ea441",
   "metadata": {},
   "source": [
    "Question 8: Use the \"one-standard-error\" rule and find the number of predictors in the Lasso model."
   ]
  },
  {
   "cell_type": "code",
   "execution_count": 9,
   "id": "0a0c8a3f-40f1-41bd-b535-6a523f93672a",
   "metadata": {},
   "outputs": [
    {
     "name": "stdout",
     "output_type": "stream",
     "text": [
      "Lasso 1-SE Rule Alpha: 10000.0\n",
      "Number of Predictors in Lasso (1-SE): 0\n"
     ]
    }
   ],
   "source": [
    "# One-standard-error rule for Lasso\n",
    "lasso_best_alpha_1se = lasso.alphas_[np.where(\n",
    "    lasso.mse_path_.mean(axis=1) <= (lasso.mse_path_.mean(axis=1).min() + lasso.mse_path_.std(axis=1).mean())\n",
    ")[0][0]]\n",
    "\n",
    "lasso_1se_model = Lasso(alpha=lasso_best_alpha_1se)\n",
    "lasso_1se_model.fit(X_train_scaled, y_train)\n",
    "\n",
    "print(f\"Lasso 1-SE Rule Alpha: {lasso_best_alpha_1se}\")\n",
    "print(f\"Number of Predictors in Lasso (1-SE): {np.sum(lasso_1se_model.coef_ != 0)}\")\n"
   ]
  },
  {
   "cell_type": "markdown",
   "id": "9975e6f2-ae06-421c-a872-5fc08fc38573",
   "metadata": {},
   "source": [
    "Question 9: Compare the performance of your Ridge and Lasso models."
   ]
  }
 ],
 "metadata": {
  "kernelspec": {
   "display_name": "Python 3 (ipykernel)",
   "language": "python",
   "name": "python3"
  },
  "language_info": {
   "codemirror_mode": {
    "name": "ipython",
    "version": 3
   },
   "file_extension": ".py",
   "mimetype": "text/x-python",
   "name": "python",
   "nbconvert_exporter": "python",
   "pygments_lexer": "ipython3",
   "version": "3.9.7"
  }
 },
 "nbformat": 4,
 "nbformat_minor": 5
}
